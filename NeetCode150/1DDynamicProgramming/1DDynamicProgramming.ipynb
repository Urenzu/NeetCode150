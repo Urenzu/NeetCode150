{
 "cells": [
  {
   "cell_type": "markdown",
   "id": "55c62559-cf67-4a1d-bf66-91a1a13cb369",
   "metadata": {},
   "source": [
    "# CLimbing Stairs"
   ]
  },
  {
   "cell_type": "code",
   "execution_count": null,
   "id": "2f27295d-b026-42eb-97dc-f69ac5f13632",
   "metadata": {},
   "outputs": [],
   "source": [
    "class Solution:\n",
    "    def climbStairs(self, n: int) -> int:\n",
    "        one, two = 1, 1 # Initialize one and two variables to 1 and 1\n",
    "\n",
    "        for i in range(n - 1): # Iterate through array\n",
    "        # n - 1 iterates through indeces \n",
    "        # n iterates through values\n",
    "            temp = one # Keep one value\n",
    "            one = one + two # add two to one\n",
    "            two = temp # Give two the original one value\n",
    "        return one"
   ]
  },
  {
   "cell_type": "markdown",
   "id": "2bca76a7-3b1b-4239-8949-995e10bd589e",
   "metadata": {},
   "source": [
    "# Min Cost Climbing Stairs"
   ]
  },
  {
   "cell_type": "code",
   "execution_count": null,
   "id": "ba98c41e-6829-49a6-92dc-993be434d16b",
   "metadata": {},
   "outputs": [],
   "source": [
    "class Solution:\n",
    "    def minCostClimbingStairs(self, cost: List[int]) -> int:\n",
    "        cost.append(0)\n",
    "        # [10, 15, 20, 0]\n",
    "        for i in range(len(cost) - 3, -1, -1): # Starting at 15 and working backwards\n",
    "            cost[i] += min(cost[i + 1], cost[i + 2]) # assigning cost[i] to minimum value of cost + 1 or + 2.\n",
    "        return min(cost[0], cost[1]) # Cost array will have atleast two values.\n"
   ]
  },
  {
   "cell_type": "markdown",
   "id": "25adb612-d767-4477-a72e-aaab5d6c1e76",
   "metadata": {},
   "source": [
    "# House Robber"
   ]
  },
  {
   "cell_type": "code",
   "execution_count": null,
   "id": "bc956489-3fd6-4292-af78-9ac2407b1e2e",
   "metadata": {},
   "outputs": [],
   "source": [
    "class Solution:\n",
    "    def rob(self, nums: List[int]) -> int:\n",
    "        rob1, rob2 = 0, 0\n",
    "\n",
    "        # [rob1, rob2, n, n + 1, ... ]\n",
    "        for n in nums: # for all values within nums\n",
    "            temp = max(n + rob1, rob2) # Assign temp the max value between rob1 and n or rob2\n",
    "            rob1 = rob2 # Then iterate rob1 to rob2\n",
    "            rob2 = temp # Assign rob2 to the next max as we're iterating.\n",
    "        return rob2\n",
    "        # Comparing current house plus previous non adjacent house and adjacent house."
   ]
  },
  {
   "cell_type": "markdown",
   "id": "c98f1fd8-12e9-4b15-9933-d4d3de1c4d08",
   "metadata": {},
   "source": [
    "# House Robber II"
   ]
  },
  {
   "cell_type": "code",
   "execution_count": null,
   "id": "59e4cb63-6764-4d7a-9925-11c220465e11",
   "metadata": {},
   "outputs": [],
   "source": [
    "class Solution:\n",
    "    def rob(self, nums: List[int]) -> int:\n",
    "# This returns the max combination but makes sure nothing is adjacent. So we get the max avoiding first house or last house, or we have an edge case where the array only has one house.\n",
    "        return max(nums[0], self.helper(nums[1:]), self.helper(nums[:-1])) \n",
    "\n",
    "    def helper(self, nums): # House robber 1\n",
    "        rob1, rob2 = 0, 0\n",
    "        for n in nums:\n",
    "            newrob = max(n + rob1, rob2)\n",
    "            rob1 = rob2\n",
    "            rob2 = newrob\n",
    "        return rob2\n",
    "    "
   ]
  },
  {
   "cell_type": "markdown",
   "id": "5f9074e5-bc52-4004-89f7-9e5f7cdbd450",
   "metadata": {},
   "source": [
    "# Longest Palindromic Substring"
   ]
  },
  {
   "cell_type": "code",
   "execution_count": null,
   "id": "dea0fb67-c3e1-4a6d-9fe4-c948b31bd7fd",
   "metadata": {},
   "outputs": [],
   "source": [
    "class Solution:\n",
    "    def longestPalindrome(self, s: str) -> str:\n",
    "        res = \"\"\n",
    "        reslen = 0\n",
    "\n",
    "        for i in range(len(s)): # Iterating through len of array considering i as center\n",
    "            # Odd length, whilst odd we just need one character representing the middle\n",
    "            l, r = i, i\n",
    "            while l >= 0 and r < len(s) and s[l] == s[r]:\n",
    "            # While l isn't all the way left (beginning of array) and r isn't all the way right (end of array) and while left value is equal to right value expand.\n",
    "                if (r - l + 1) > reslen: # For everytime we expand update length and shift pointers outwards.\n",
    "                    res = s[l:r + 1] # Updating result\n",
    "                    reslen = r - l + 1 # Updating length\n",
    "                # Expansion\n",
    "                l -= 1\n",
    "                r += 1\n",
    "\n",
    "            # Even length, while even we need two characters representing the center and expanding out. Thus l = i and r = i + 1\n",
    "            l, r = i, i + 1\n",
    "            while l >= 0 and r < len(s) and s[l] == s[r]: \n",
    "                if (r - l + 1) > reslen:\n",
    "                    res = s[l:r + 1]\n",
    "                    reslen = r - l + 1\n",
    "                l -= 1\n",
    "                r += 1\n",
    "        return res               \n",
    "            "
   ]
  },
  {
   "cell_type": "markdown",
   "id": "321165a4-7295-46e8-896d-64717bf1510c",
   "metadata": {},
   "source": [
    "# Palindromic Substrings"
   ]
  },
  {
   "cell_type": "code",
   "execution_count": null,
   "id": "77002a2f-a134-4f88-aaeb-de7d803d8a57",
   "metadata": {},
   "outputs": [],
   "source": [
    "class Solution:\n",
    "    def countSubstrings(self, s: str) -> int:\n",
    "        res = 0\n",
    "\n",
    "        for i in range(len(s)): # Assigning left and right equal to i\n",
    "            l = r = i\n",
    "            while l >= 0 and r < len(s) and s[l] == s[r]: # While in range of the array and left is equal to right increment our result and expand our array. In this instance we're searching for odd variations.\n",
    "                res += 1\n",
    "                l -= 1\n",
    "                r += 1\n",
    "            # Afterwards we assign l equal to i and r equal to i + 1, this will have us start at two positions to catch even variations.\n",
    "            l = i\n",
    "            r = i + 1\n",
    "\n",
    "            while l >= 0 and r < len(s) and s[l] == s[r]: # We expand and get the results as usual.\n",
    "                res += 1\n",
    "                l -= 1\n",
    "                r += 1\n",
    "\n",
    "        return res"
   ]
  },
  {
   "cell_type": "markdown",
   "id": "f10a4956-2a85-4b69-a4ae-4754fb48ad46",
   "metadata": {},
   "source": [
    "# Decode Ways"
   ]
  },
  {
   "cell_type": "code",
   "execution_count": null,
   "id": "3e125575-46bf-4e79-9a3a-b9626bb32dc5",
   "metadata": {},
   "outputs": [],
   "source": [
    "class Solution:\n",
    "    def numDecodings(self, s: str) -> int:\n",
    "        dp = {len(s) : 1} # Empty string returns 1\n",
    "\n",
    "        def dfs(i): # i is position we're at in string s\n",
    "            if i in dp: # If i is in dp (Already cached or last position)\n",
    "                return dp[i]\n",
    "            if s[i] == \"0\": # If string starts with 0 return 0.\n",
    "                return 0\n",
    "            \n",
    "            res = dfs(i + 1)\n",
    "            if (i + 1 < len(s) and (s[i] == \"1\" or s[i] == \"2\" and s[i + 1] in \"0123456\")): # If our value is double digit and within range 0 - 26\n",
    "                res += dfs(i + 2)\n",
    "            dp[i] = res\n",
    "            return res\n",
    "        \n",
    "        return dfs(0)"
   ]
  },
  {
   "cell_type": "markdown",
   "id": "bbff5548-354d-4b19-bd62-eba8e835b656",
   "metadata": {},
   "source": [
    "# Coin Change"
   ]
  },
  {
   "cell_type": "code",
   "execution_count": null,
   "id": "b11c5a74-5c87-4423-b105-938214fa9609",
   "metadata": {},
   "outputs": [],
   "source": [
    "class Solution:\n",
    "    def coinChange(self, coins: List[int], amount: int) -> int:\n",
    "        dp = [amount + 1] * (amount + 1)\n",
    "        dp[0] = 0\n",
    "\n",
    "        for a in range(1, amount + 1): # Computing a amount whilst taking in 1 and amount + 1\n",
    "            for c in coins: # For all coin values within coins\n",
    "                if a - c >= 0:\n",
    "                    dp[a] = min(dp[a], 1 + dp[a - c])\n",
    "\n",
    "        return dp[amount] if dp[amount] != amount + 1 else -1\n"
   ]
  },
  {
   "cell_type": "markdown",
   "id": "640d0bb7-a860-4135-8083-d6dda783d277",
   "metadata": {},
   "source": [
    "# Maximum Product Subarray"
   ]
  },
  {
   "cell_type": "code",
   "execution_count": null,
   "id": "454857bf-ab21-409c-a6e9-57597abebbcc",
   "metadata": {},
   "outputs": [],
   "source": [
    "class Solution:\n",
    "    def maxProduct(self, nums: List[int]) -> int:\n",
    "        res = max(nums)\n",
    "        curmin, curmax = 1, 1\n",
    "\n",
    "        for n in nums:\n",
    "            tmp = curmax * n # We use tmp because we need the old curmax to calculate curmin\n",
    "            curmax = max(n * curmax, n * curmin, n) # calculating max by comparing n times min and max and n by itself\n",
    "            curmin = min(tmp, n * curmin, n) # calculating min by comparing n times min and max and n by itself\n",
    "            res = max(res, curmax, curmin) # Finding the max result by comparing res and curmax and curmin\n",
    "        return res"
   ]
  },
  {
   "cell_type": "markdown",
   "id": "4fd9eefb-2db6-4b3d-8f5e-8f6e1f78261d",
   "metadata": {},
   "source": [
    "# Word Break"
   ]
  },
  {
   "cell_type": "code",
   "execution_count": null,
   "id": "d70e808b-c7a5-454d-a0f6-e691b03202b8",
   "metadata": {},
   "outputs": [],
   "source": [
    "class Solution:\n",
    "    def wordBreak(self, s: str, wordDict: List[str]) -> bool:\n",
    "        dp = [False] * (len(s) + 1) # While every value within string s is false\n",
    "        dp[len(s)] = True \n",
    "\n",
    "        for i in range(len(s) - 1, -1, -1): # For length of string s - 1 (all indeces) iterate backwards until 0.\n",
    "            for w in wordDict: # For words in word dictionary\n",
    "                if(i + len(w)) <= len(s) and s[i : i + len(w)] == w: # If length of word is less than length of string s and s from i to end of word is equal to word in dictionary\n",
    "                    dp[i] = dp[i + len(w)] # Then append the given characters within the range to dp[i]\n",
    "                if dp[i]: # While we have dp[i] break and iterate through array more until array is completed.\n",
    "                    break\n",
    "        return dp[0] # True or False depending on if words could be separated"
   ]
  },
  {
   "cell_type": "markdown",
   "id": "6490936e-1bd8-47b4-bf7d-4fcb765c0a1f",
   "metadata": {},
   "source": [
    "# Longest Increasing Subsequence"
   ]
  },
  {
   "cell_type": "code",
   "execution_count": null,
   "id": "70c49a6e-f29b-469a-888b-0b6016d9e0f5",
   "metadata": {},
   "outputs": [],
   "source": [
    "class Solution:\n",
    "    def lengthOfLIS(self, nums: List[int]) -> int:\n",
    "        lis = [1] * len(nums)\n",
    "\n",
    "        for i in range(len(nums) - 1, -1, -1): # Starting at the end and decrementing to the beginning.\n",
    "            for j in range(i + 1, len(nums)):\n",
    "                if nums[i] < nums[j]: # J comes after i, in order for the sequence to be increasing this has to be true\n",
    "                    lis[i] = max(lis[i], 1 + lis[j]) # Append to list[i] to max value between i and j\n",
    "        return max(lis) # Return list of increasing numbers from the array"
   ]
  },
  {
   "cell_type": "markdown",
   "id": "18814359-5e4e-4a4c-bc9a-f6cb9d3c2a7a",
   "metadata": {},
   "source": [
    "# Partition Equal Subset Sum"
   ]
  },
  {
   "cell_type": "code",
   "execution_count": null,
   "id": "19c9cb53-d5e3-4cb5-a997-d501a01f9876",
   "metadata": {},
   "outputs": [],
   "source": [
    "class Solution:\n",
    "    def canPartition(self, nums: List[int]) -> bool:\n",
    "        # If the sum of the elements in the array is odd, it's impossible to divide it into two subsets with equal sums.\n",
    "        if sum(nums) % 2:\n",
    "            return False\n",
    "        \n",
    "        # Create a set to store all possible sums that can be achieved using a subset of nums.\n",
    "        dp = set()\n",
    "        # Add 0 to the set, as an empty subset has a sum of 0.\n",
    "        dp.add(0)\n",
    "        # Calculate the target sum that each subset should aim for, which is half the sum of nums.\n",
    "        target = sum(nums) // 2\n",
    "\n",
    "        # Iterate through nums in reverse order.\n",
    "        for i in range(len(nums) - 1, -1, -1):\n",
    "            # Create a new set to store the possible sums that can be achieved using the current integer and the sums already in dp.\n",
    "            nextdp = set()\n",
    "            # Iterate through dp and add the current integer to each element to create a new sum. Add both the new and original sums to nextdp.\n",
    "            for t in dp:\n",
    "                nextdp.add(t + nums[i])\n",
    "                nextdp.add(t)\n",
    "            # Replace dp with nextdp.\n",
    "            dp = nextdp\n",
    "        \n",
    "        # If the target sum is in dp, then it's possible to divide nums into two subsets with equal sums. Return True.\n",
    "        # Otherwise, it's not possible, so return False.\n",
    "        return True if target in dp else False"
   ]
  }
 ],
 "metadata": {
  "kernelspec": {
   "display_name": "Python 3 (ipykernel)",
   "language": "python",
   "name": "python3"
  },
  "language_info": {
   "codemirror_mode": {
    "name": "ipython",
    "version": 3
   },
   "file_extension": ".py",
   "mimetype": "text/x-python",
   "name": "python",
   "nbconvert_exporter": "python",
   "pygments_lexer": "ipython3",
   "version": "3.9.12"
  }
 },
 "nbformat": 4,
 "nbformat_minor": 5
}
