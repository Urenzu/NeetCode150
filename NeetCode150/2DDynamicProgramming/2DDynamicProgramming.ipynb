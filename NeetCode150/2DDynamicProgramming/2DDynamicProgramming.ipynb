{
 "cells": [
  {
   "cell_type": "markdown",
   "id": "60fa74dc-fc2b-45dd-9eb5-9a483558d4d3",
   "metadata": {},
   "source": [
    "# Unique Paths"
   ]
  },
  {
   "cell_type": "code",
   "execution_count": null,
   "id": "3ac78a22-a138-4b89-b5d0-fe06262ee894",
   "metadata": {},
   "outputs": [],
   "source": [
    "class Solution:\n",
    "    # Define the uniquePaths function that takes in the dimensions of a grid as input and returns the number of unique paths from the top-left corner to the bottom-right corner of the grid\n",
    "    def uniquePaths(self, m: int, n: int) -> int:\n",
    "        # Initialize the first row of the grid with 1s, since there is only one way to reach any cell in the first row\n",
    "        row = [1] * n\n",
    "\n",
    "        # Iterate over the remaining rows of the grid\n",
    "        for i in range(m - 1):\n",
    "            # Initialize a new row with 1s, since there is only one way to reach any cell in the first column of each row\n",
    "            newRow = [1] * n\n",
    "\n",
    "            # Iterate over the cells in the current row, from right to left\n",
    "            for j in range(n - 2, -1, -1):\n",
    "                # The number of unique paths to the current cell is equal to the number of unique paths to the cell to its right plus the number of unique paths to the cell above it\n",
    "                newRow[j] = newRow[j + 1] + row[j]\n",
    "\n",
    "            # Update the row with the new values for the number of unique paths\n",
    "            row = newRow\n",
    "\n",
    "        # The number of unique paths to the bottom-right corner of the grid is equal to the number of unique paths to the cell in the first row and last column of the grid\n",
    "        return row[0]"
   ]
  },
  {
   "cell_type": "markdown",
   "id": "ac2b166f-cfa8-4b35-bf54-5a627489f670",
   "metadata": {},
   "source": [
    "# Longest Common Subsequence"
   ]
  },
  {
   "cell_type": "code",
   "execution_count": null,
   "id": "a0ecbde8-49b9-4884-b5e5-2832fdbe4a3f",
   "metadata": {},
   "outputs": [],
   "source": [
    "class Solution:\n",
    "    def longestCommonSubsequence(self, text1: str, text2: str) -> int:\n",
    "        # Create a 2D matrix to store the lengths of longest common subsequence at each position\n",
    "        # Initialize the matrix with 0s\n",
    "        dp = [[0 for j in range(len(text2) + 1)] for i in range(len(text1) + 1)]\n",
    "\n",
    "        # Iterate backwards over the strings to fill in the matrix\n",
    "        for i in range(len(text1) - 1, -1, -1):\n",
    "            for j in range(len(text2) - 1, -1, -1):\n",
    "                # If the characters match, add 1 to the length of the LCS from the next positions\n",
    "                if text1[i] == text2[j]:\n",
    "                    dp[i][j] = 1 + dp[i + 1][j + 1]\n",
    "                else:\n",
    "                    # If the characters don't match, take the maximum of the LCS from next positions\n",
    "                    # in the same string and in the other string\n",
    "                    dp[i][j] = max(dp[i][j + 1], dp[i + 1][j])\n",
    "\n",
    "        # The length of the longest common subsequence is at the top left corner of the matrix\n",
    "        return dp[0][0]"
   ]
  },
  {
   "cell_type": "markdown",
   "id": "4b4de411-ece3-4809-876b-4f0931913d6a",
   "metadata": {},
   "source": [
    "# Best Time to Buy And Sell Stock With Cooldown"
   ]
  },
  {
   "cell_type": "code",
   "execution_count": null,
   "id": "6f16bae2-f4dd-428e-ae5b-fab560730b92",
   "metadata": {},
   "outputs": [],
   "source": [
    "class Solution:\n",
    "    def maxProfit(self, prices: List[int]) -> int:\n",
    "        # Create a dictionary to store max profit values for each state\n",
    "        dp = {}  # key=(i, buying) val=max_profit\n",
    "        \n",
    "        # Define a recursive function to calculate max profit\n",
    "        def dfs(i, buying):\n",
    "            # Base case: when all prices have been processed\n",
    "            if i >= len(prices):\n",
    "                return 0\n",
    "            \n",
    "            # If the current state has already been calculated, return the stored value\n",
    "            if (i, buying) in dp:\n",
    "                return dp[(i, buying)]\n",
    "            \n",
    "            # Calculate the profit if we do nothing at this moment (i.e., cooldown)\n",
    "            cooldown = dfs(i + 1, buying)\n",
    "            \n",
    "            if buying:  # If we are in a buying state\n",
    "                # Calculate the profit if we buy at this moment\n",
    "                buy = dfs(i + 1, not buying) - prices[i]\n",
    "                # Store the max profit value for this state in the dictionary\n",
    "                dp[(i, buying)] = max(buy, cooldown)\n",
    "            else:  # If we are in a selling state\n",
    "                # Calculate the profit if we sell at this moment\n",
    "                sell = dfs(i + 2, not buying) + prices[i]\n",
    "                # Store the max profit value for this state in the dictionary\n",
    "                dp[(i, buying)] = max(sell, cooldown)\n",
    "                \n",
    "            # Return the max profit value for the current state\n",
    "            return dp[(i, buying)]\n",
    "        \n",
    "        # Call the recursive function with initial state (buying) at index 0\n",
    "        return dfs(0, True)"
   ]
  },
  {
   "cell_type": "markdown",
   "id": "d6d424d3-5e85-4d14-9b52-f262147e8b53",
   "metadata": {},
   "source": [
    "# Coin Change II"
   ]
  },
  {
   "cell_type": "code",
   "execution_count": null,
   "id": "b7f35e56-e03d-4c3e-8ffd-47ebb6aadba1",
   "metadata": {},
   "outputs": [],
   "source": [
    "class Solution:\n",
    "    def change(self, amount: int, coins: List[int]) -> int:\n",
    "        # MEMOIZATION\n",
    "        # Time: O(n*m)\n",
    "        # Memory: O(n*m)\n",
    "        # Create a dictionary to store the number of ways to make change for a given amount and coin\n",
    "        cache = {}\n",
    "\n",
    "        # Define a recursive function to calculate the number of ways to make change\n",
    "        def dfs(i, a):\n",
    "            # Base case: if the target amount is reached, return 1 (one way to make change)\n",
    "            if a == amount:\n",
    "                return 1\n",
    "            # If the target amount is exceeded, return 0 (no way to make change)\n",
    "            if a > amount:\n",
    "                return 0\n",
    "            # If all coins have been processed, return 0 (no way to make change)\n",
    "            if i == len(coins):\n",
    "                return 0\n",
    "            # If the current state has already been calculated, return the stored value\n",
    "            if (i, a) in cache:\n",
    "                return cache[(i, a)]\n",
    "\n",
    "            # Calculate the number of ways to make change by considering two options:\n",
    "            # either we include the current coin or we skip it\n",
    "            cache[(i, a)] = dfs(i, a + coins[i]) + dfs(i + 1, a)\n",
    "            # Store the calculated value in the dictionary\n",
    "            return cache[(i, a)]\n",
    "\n",
    "        # Call the recursive function with initial state (no coins used yet) and amount 0\n",
    "        return dfs(0, 0)"
   ]
  },
  {
   "cell_type": "markdown",
   "id": "fcfe45d2-6d9b-4803-8d51-404c47b27729",
   "metadata": {},
   "source": [
    "# Target Sum"
   ]
  },
  {
   "cell_type": "code",
   "execution_count": null,
   "id": "619d8a61-bf7c-4acb-9fe6-8af229bf617b",
   "metadata": {},
   "outputs": [],
   "source": [
    "class Solution:\n",
    "    def findTargetSumWays(self, nums: List[int], target: int) -> int:\n",
    "        # Create a dictionary to store the number of ways to reach a certain total\n",
    "        dp = {}  # (index, total) -> # of ways\n",
    "\n",
    "        # Define a recursive function to backtrack through the array and calculate the number of ways to reach the target\n",
    "        def backtrack(i, total):\n",
    "            # Base case: if all elements have been processed, return 1 if the target has been reached or 0 otherwise\n",
    "            if i == len(nums):\n",
    "                return 1 if total == target else 0\n",
    "            # If the current state has already been calculated, return the stored value\n",
    "            if (i, total) in dp:\n",
    "                return dp[(i, total)]\n",
    "\n",
    "            # Calculate the number of ways to reach the target by adding or subtracting the current element\n",
    "            dp[(i, total)] = backtrack(i + 1, total + nums[i]) + backtrack(\n",
    "                i + 1, total - nums[i]\n",
    "            )\n",
    "            # Store the calculated value in the dictionary\n",
    "            return dp[(i, total)]\n",
    "\n",
    "        # Call the recursive function with initial state (index 0, total 0) and return the number of ways\n",
    "        return backtrack(0, 0)"
   ]
  },
  {
   "cell_type": "markdown",
   "id": "8f0a6830-a091-4b2b-896a-1fe2cd368654",
   "metadata": {},
   "source": [
    "# Interleaving String"
   ]
  },
  {
   "cell_type": "code",
   "execution_count": null,
   "id": "aa9d78d8-fac9-4d69-990e-76a9c1e36d9c",
   "metadata": {},
   "outputs": [],
   "source": [
    "class Solution:\n",
    "    def isInterleave(self, s1: str, s2: str, s3: str) -> bool:\n",
    "        # Check if the lengths of s1 and s2 add up to the length of s3\n",
    "        if len(s1) + len(s2) != len(s3):\n",
    "            return False\n",
    "\n",
    "        # Create a 2D array with len(s1)+1 rows and len(s2)+1 columns\n",
    "        # to store the subproblems. The i-th row and j-th column of the\n",
    "        # array represents the subproblem of determining whether the\n",
    "        # first i characters of s1 and the first j characters of s2 can\n",
    "        # interleave to form the first i+j characters of s3.\n",
    "        dp = [[False] * (len(s2) + 1) for i in range(len(s1) + 1)]\n",
    "        \n",
    "        # Initialize the base case: if s1 and s2 are empty, then s3 is also empty.\n",
    "        dp[len(s1)][len(s2)] = True\n",
    "\n",
    "        # Traverse the 2D array from bottom-right to top-left and fill in the\n",
    "        # subproblem solutions.\n",
    "        for i in range(len(s1), -1, -1):\n",
    "            for j in range(len(s2), -1, -1):\n",
    "                # Check if s1[i] matches the next character in s3 and if the\n",
    "                # subproblem for s1[i+1:] and s2[j:] has already been solved.\n",
    "                # If so, then the solution for the subproblem with s1[i:] and s2[j:]\n",
    "                # is the same as the solution for the subproblem with s1[i+1:] and s2[j:].\n",
    "                if i < len(s1) and s1[i] == s3[i + j] and dp[i + 1][j]:\n",
    "                    dp[i][j] = True\n",
    "                # Check if s2[j] matches the next character in s3 and if the\n",
    "                # subproblem for s1[i:] and s2[j+1:] has already been solved.\n",
    "                # If so, then the solution for the subproblem with s1[i:] and s2[j:]\n",
    "                # is the same as the solution for the subproblem with s1[i:] and s2[j+1:].\n",
    "                if j < len(s2) and s2[j] == s3[i + j] and dp[i][j + 1]:\n",
    "                    dp[i][j] = True\n",
    "        \n",
    "        # The solution to the original problem is in the top-left corner of the array.\n",
    "        return dp[0][0]"
   ]
  },
  {
   "cell_type": "markdown",
   "id": "85a5a6af-8d04-4ebf-ae90-96de1ef5e36c",
   "metadata": {},
   "source": [
    "# Longest Increasing Path In a Matrix"
   ]
  },
  {
   "cell_type": "code",
   "execution_count": null,
   "id": "edf7b34d-5601-4de9-a201-469470bf6815",
   "metadata": {},
   "outputs": [],
   "source": [
    "class Solution:\n",
    "    def longestIncreasingPath(self, matrix: List[List[int]]) -> int:\n",
    "        ROWS, COLS = len(matrix), len(matrix[0])\n",
    "        dp = {}  # (r, c) -> LIP   # dictionary to store the longest increasing path (LIP) for each cell\n",
    "\n",
    "        def dfs(r, c, prevVal):\n",
    "            # Check if the cell is out of bounds or if the previous value is greater or equal to the current cell value\n",
    "            if r < 0 or r == ROWS or c < 0 or c == COLS or matrix[r][c] <= prevVal:\n",
    "                return 0\n",
    "            # If the current cell has already been visited, return the stored LIP value\n",
    "            if (r, c) in dp:\n",
    "                return dp[(r, c)]\n",
    "\n",
    "            res = 1   # Initialize the LIP value of the current cell to 1 (the cell itself)\n",
    "            # Check the maximum LIP value of all the possible neighbor cells of the current cell\n",
    "            res = max(res, 1 + dfs(r + 1, c, matrix[r][c]))\n",
    "            res = max(res, 1 + dfs(r - 1, c, matrix[r][c]))\n",
    "            res = max(res, 1 + dfs(r, c + 1, matrix[r][c]))\n",
    "            res = max(res, 1 + dfs(r, c - 1, matrix[r][c]))\n",
    "            dp[(r, c)] = res   # Store the LIP value of the current cell in the dictionary\n",
    "            return res\n",
    "\n",
    "        # Traverse all cells in the matrix to calculate the LIP for each cell and store it in the dictionary\n",
    "        for r in range(ROWS):\n",
    "            for c in range(COLS):\n",
    "                dfs(r, c, -1)   # Start the dfs from each cell with a previous value of -1\n",
    "        # Return the maximum LIP value of all the cells in the matrix\n",
    "        return max(dp.values())"
   ]
  },
  {
   "cell_type": "markdown",
   "id": "e7a94b6d-130e-4e56-a717-1a217d214657",
   "metadata": {},
   "source": [
    "# Distinct Subsequences"
   ]
  },
  {
   "cell_type": "code",
   "execution_count": null,
   "id": "a3d489d4-9c53-4b84-b9d6-901786d78d93",
   "metadata": {},
   "outputs": [],
   "source": [
    "class Solution:\n",
    "    def numDistinct(self, s: str, t: str) -> int:\n",
    "        cache = {}  # a dictionary to store computed results\n",
    "\n",
    "        # base cases for when one of the strings is empty\n",
    "        for i in range(len(s) + 1):\n",
    "            cache[(i, len(t))] = 1\n",
    "        for j in range(len(t)):\n",
    "            cache[(len(s), j)] = 0\n",
    "\n",
    "        # compute the number of distinct subsequences using dynamic programming\n",
    "        for i in range(len(s) - 1, -1, -1):\n",
    "            for j in range(len(t) - 1, -1, -1):\n",
    "                if s[i] == t[j]:\n",
    "                    cache[(i, j)] = cache[(i + 1, j + 1)] + cache[(i + 1, j)]\n",
    "                else:\n",
    "                    cache[(i, j)] = cache[(i + 1, j)]\n",
    "\n",
    "        # return the computed result\n",
    "        return cache[(0, 0)]"
   ]
  },
  {
   "cell_type": "markdown",
   "id": "ed7f3d69-5b9d-4979-b4ba-3a50e71157ec",
   "metadata": {},
   "source": [
    "# Edit Distance"
   ]
  },
  {
   "cell_type": "code",
   "execution_count": null,
   "id": "821ead66-6e7b-4865-9bbd-fc4b9bb49d22",
   "metadata": {},
   "outputs": [],
   "source": [
    "class Solution:\n",
    "    def minDistance(self, word1: str, word2: str) -> int:\n",
    "        # create a 2D array filled with infinite values\n",
    "        dp = [[float(\"inf\")] * (len(word2) + 1) for i in range(len(word1) + 1)]\n",
    "\n",
    "        # base cases\n",
    "        # if one word is empty, the distance is the length of the other word\n",
    "        for j in range(len(word2) + 1):\n",
    "            dp[len(word1)][j] = len(word2) - j\n",
    "        for i in range(len(word1) + 1):\n",
    "            dp[i][len(word2)] = len(word1) - i\n",
    "\n",
    "        # fill in the rest of the array\n",
    "        for i in range(len(word1) - 1, -1, -1):\n",
    "            for j in range(len(word2) - 1, -1, -1):\n",
    "                if word1[i] == word2[j]:  # no operation needed\n",
    "                    dp[i][j] = dp[i + 1][j + 1]\n",
    "                else:  # find the minimum distance by adding, deleting or replacing a character\n",
    "                    dp[i][j] = 1 + min(dp[i + 1][j], dp[i][j + 1], dp[i + 1][j + 1])\n",
    "        return dp[0][0]  # the minimum distance is stored at the top-left corner of the array"
   ]
  },
  {
   "cell_type": "markdown",
   "id": "9950383e-2e37-42c2-9707-9de1a58bba15",
   "metadata": {},
   "source": [
    "# Burst Balloons"
   ]
  },
  {
   "cell_type": "code",
   "execution_count": null,
   "id": "0af9a2ff-0ffc-4ac2-828a-950035cab9b3",
   "metadata": {},
   "outputs": [],
   "source": [
    "class Solution:\n",
    "    def maxCoins(self, nums: List[int]) -> int:\n",
    "        cache = {}  # dictionary to store the maximum number of coins that can be obtained for each subproblem\n",
    "        nums = [1] + nums + [1]  # add dummy balloons at the beginning and end\n",
    "\n",
    "        # loop over all possible subarrays\n",
    "        for offset in range(2, len(nums)):\n",
    "            for left in range(len(nums) - offset):\n",
    "                right = left + offset\n",
    "                \n",
    "                # loop over all possible pivots within the subarray\n",
    "                for pivot in range(left + 1, right):\n",
    "                    coins = nums[left] * nums[pivot] * nums[right]  # coins obtained by popping the pivot balloon\n",
    "                    coins += cache.get((left, pivot), 0) + cache.get((pivot, right), 0)  # add the maximum coins obtained from the subarrays to the left and right of the pivot\n",
    "                    cache[(left, right)] = max(coins, cache.get((left, right), 0))  # update the maximum coins obtained for this subarray if necessary\n",
    "                    \n",
    "        return cache.get((0, len(nums) - 1), 0)  # return the maximum number of coins that can be obtained for the entire array (excluding the dummy balloons)"
   ]
  },
  {
   "cell_type": "markdown",
   "id": "774d2e2a-2ed4-4c93-a013-c214a0b473b1",
   "metadata": {},
   "source": [
    "# Regular Expression Matching"
   ]
  },
  {
   "cell_type": "code",
   "execution_count": null,
   "id": "7df96a0c-f694-487e-8f11-9b103b70d945",
   "metadata": {},
   "outputs": [],
   "source": [
    "class Solution:\n",
    "    def isMatch(self, s: str, p: str) -> bool:\n",
    "        # Initialize a cache to store the results of subproblems\n",
    "        cache = [[False] * (len(p) + 1) for i in range(len(s) + 1)]\n",
    "        # Base case: if both s and p are empty, they match\n",
    "        cache[len(s)][len(p)] = True\n",
    "\n",
    "        # Loop over s and p backwards to fill the cache table\n",
    "        for i in range(len(s), -1, -1):\n",
    "            for j in range(len(p) - 1, -1, -1):\n",
    "                # Check if there is a match between the current characters in s and p\n",
    "                match = i < len(s) and (s[i] == p[j] or p[j] == \".\")\n",
    "\n",
    "                # If the next character in p is a *, we can either skip it and its matching character,\n",
    "                # or match it and move on to the next character in s\n",
    "                if (j + 1) < len(p) and p[j + 1] == \"*\":\n",
    "                    cache[i][j] = cache[i][j + 2]  # skip the * and its matching character\n",
    "                    if match:\n",
    "                        cache[i][j] = cache[i + 1][j] or cache[i][j]  # match the * and move on to the next character in s\n",
    "                # If there is a match between the current characters in s and p, move on to the next characters in s and p\n",
    "                elif match:\n",
    "                    cache[i][j] = cache[i + 1][j + 1]\n",
    "\n",
    "        # Return the result of the subproblem for the entire input strings\n",
    "        return cache[0][0]"
   ]
  }
 ],
 "metadata": {
  "kernelspec": {
   "display_name": "Python 3 (ipykernel)",
   "language": "python",
   "name": "python3"
  },
  "language_info": {
   "codemirror_mode": {
    "name": "ipython",
    "version": 3
   },
   "file_extension": ".py",
   "mimetype": "text/x-python",
   "name": "python",
   "nbconvert_exporter": "python",
   "pygments_lexer": "ipython3",
   "version": "3.9.12"
  }
 },
 "nbformat": 4,
 "nbformat_minor": 5
}
