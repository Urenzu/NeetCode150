{
 "cells": [
  {
   "cell_type": "markdown",
   "id": "081aa9a2-d63e-4151-9e1a-fd48741df288",
   "metadata": {},
   "source": [
    "# Contains Duplicate"
   ]
  },
  {
   "cell_type": "code",
   "execution_count": null,
   "id": "806bc0fa-a306-4829-b813-399d9e8051b4",
   "metadata": {},
   "outputs": [],
   "source": [
    "class Solution:\n",
    "    def containsDuplicate(self, nums: List[int]) -> bool:\n",
    "        hashset = set() # Assigning a variable to our set.\n",
    "\n",
    "        for n in nums: # Looping through array\n",
    "            if n in hashset: # Checking to see if an integer is already within the set.\n",
    "                return True \n",
    "\n",
    "            hashset.add(n) #This operates as an else, if not true add integer to hashmap.\n",
    "        return False # If no duplicates in hashmap while iterating through the array."
   ]
  },
  {
   "cell_type": "markdown",
   "id": "693eb6f7-c759-4d4e-8ecf-f145093baf9a",
   "metadata": {},
   "source": [
    "# Valid Anagram"
   ]
  },
  {
   "cell_type": "code",
   "execution_count": null,
   "id": "1cd6f3ba-0c42-43fd-a67e-7c51cdf56e15",
   "metadata": {},
   "outputs": [],
   "source": [
    "class Solution:\n",
    "    def isAnagram(self, s: str, t: str) -> bool:\n",
    "        if len(s) != len(t): # Comparing the length of both strings.\n",
    "            return False\n",
    "        countS, countT = {}, {} # Initializing two hashmaps.\n",
    "\n",
    "        for i in range(len(s)): # Looping through the entirety of the length of the string s.\n",
    "# Both lines establishing the count of the #characters within the string and storing the values within the hashmap.\n",
    "            countS[s[i]] = 1 + countS.get(s[i], 0)\n",
    "            countT[t[i]] = 1 + countT.get(t[i], 0)\n",
    "        for c in countS: # Iterating through the counts within the hashmap storing the counts for string S. Then we use countT.get() to get the count from the other hashmap without indexing and using another loop.\n",
    "            if countS[c] != countT.get(c, 0):\n",
    "                return False\n",
    "        return True\n",
    "\n",
    "class Solution:\n",
    "    def isAnagram(self, s: str, t: str) -> bool:\n",
    "        return Counter(s) == Counter(t) # Python built in function for getting the count of some series of values.\n",
    "\n",
    "class Solution:\n",
    "    def isAnagram(self, s: str, t: str) -> bool:\n",
    "        return sorted(s) == sorted(t) # Sorts all of the string characters and then compares strings to see if they're equal."
   ]
  },
  {
   "cell_type": "markdown",
   "id": "8ad91acb-b87c-4353-b4c0-cb352a84225d",
   "metadata": {},
   "source": [
    "# Two Sum"
   ]
  },
  {
   "cell_type": "code",
   "execution_count": null,
   "id": "efab0013-7218-4645-a71b-2bf8e686f5e0",
   "metadata": {},
   "outputs": [],
   "source": [
    "class Solution:\n",
    "    def twoSum(self, nums: List[int], target: int) -> List[int]:\n",
    "        prevMap = {} # Hashmap for mapping the value to the index. index : value\n",
    "        for i, n in enumerate(nums):\n",
    "            diff = target - n\n",
    "            if diff in prevMap:\n",
    "                return [prevMap[diff], i]\n",
    "            prevMap[n] = i\n",
    "        return\n",
    "''' Looping through the index and numbers corresponding to that index. Getting the value which is the difference between our current value and the target. Then seeing if that value is within our hashmap which we've been iterating through. If it is return our index pairs. If not continue iterating. '''"
   ]
  },
  {
   "cell_type": "markdown",
   "id": "4ddac608-632a-46af-9db4-c5831ae7d91e",
   "metadata": {},
   "source": [
    "# Group Anagrams"
   ]
  },
  {
   "cell_type": "code",
   "execution_count": null,
   "id": "85dc5381-3505-423b-b6ed-71e9ccad40a5",
   "metadata": {},
   "outputs": [],
   "source": [
    "class Solution:\n",
    "    def groupAnagrams(self, strs: List[str]) -> List[List[str]]:\n",
    "        res = defaultdict(list) # Mapping the character count of each string to the list of anagrams. While using defaultdict(list) if trying to access a key that doesn't exist it will create a new key. res = {} won't do this.\n",
    "\n",
    "        for s in strs:\n",
    "            count = [0] * 26 # a - z storing all of the counts and providing enough space in the array for every single potential character.\n",
    "\n",
    "            for c in s:\n",
    "                count[ord(c) - ord(\"a\")] += 1 # The ord() function returns an integer representing the Unicode character.\n",
    "\n",
    "                # a = 80 -> 0, 80 - 80\n",
    "                # b = 81 -> 1, 81 - 80\n",
    "            res[tuple(count)].append(s) # In python lists cannot be keys. Lists are mutable objects which means they can be changed after creation. Lists cannot be used as dictionary keys because dictionary keys are immutable. Hashable objects need to have a hash value that doesn't change during their lifetime. Lists are not hashable.\n",
    "        \n",
    "        return res.values()\n",
    "\n",
    "        # O(M * N)"
   ]
  },
  {
   "cell_type": "markdown",
   "id": "2ce08590-c6cb-44d2-9f3b-3fc5cb997611",
   "metadata": {},
   "source": [
    "# Top K Frequent Elements"
   ]
  },
  {
   "cell_type": "code",
   "execution_count": null,
   "id": "c1faa17b-cb9e-4826-8f4e-69831a6184a1",
   "metadata": {},
   "outputs": [],
   "source": [
    "class Solution:\n",
    "    def topKFrequent(self, nums: List[int], k: int) -> List[int]:\n",
    "        count = {}\n",
    "        freq = [[] for i in range(len(nums) + 1)] # Creating a frequency array which is the size of nums + 1, + 1 because we need to include 0.\n",
    "\n",
    "        for n in nums: # Counting number of times each value in nums occurs.\n",
    "            count[n] = 1 + count.get(n, 0)\n",
    "        for n, c in count.items(): # count.items returns key value pairs.\n",
    "            freq[c].append(n) # n occurs c number of times.\n",
    "        \n",
    "        res = [] \n",
    "        for i in range(len(freq) - 1, 0, -1):\n",
    "            for n in freq[i]: # Iterating through the count frequencies appending the highest counts. Eventually we will hit the length of k and then we'll return k.\n",
    "                res.append(n)\n",
    "                if len(res) == k:\n",
    "                    return res\n",
    "            \n",
    "            \n",
    "# The -1 here is the decrementer moving through   the array and we're starting at the very end of the array for printing the results.\n",
    "        \n",
    "        \n",
    "# Descending order so we get the numbers with the highest frequency first. Highest counts are at the very right of our array. Because our array is the extent of the size of the array and this is labeled as the counts."
   ]
  },
  {
   "cell_type": "markdown",
   "id": "ed514d6f-ec2e-4d4a-99a3-96508ba0de35",
   "metadata": {},
   "source": [
    "# Product of Array Except Self"
   ]
  },
  {
   "cell_type": "code",
   "execution_count": null,
   "id": "31f9f740-fb5c-40cb-9919-8a41301825ea",
   "metadata": {},
   "outputs": [],
   "source": [
    "class Solution:\n",
    "    def productExceptSelf(self, nums: List[int]) -> List[int]:\n",
    "        res = [1] * (len(nums)) # Result output array\n",
    "\n",
    "        prefix = 1 # Set prefix to 1\n",
    "        for i in range(len(nums)):\n",
    "            res[i] = prefix # Capturing prefix's\n",
    "            prefix *= nums[i] # Multiplying by next element for next prefix.     \n",
    "        \n",
    "        postfix = 1\n",
    "        for i in range(len(nums) - 1, -1, -1): # Start at the end of the array and go until the beginning. Don't go to -1 index so our stopping max will be 0. The last -1 has us decrement by 1.\n",
    "            res[i] *= postfix # Multiply last element by post fix.\n",
    "            postfix *= nums[i] # Mulyiply post fix by last value in nums[i].\n",
    "        return res\n"
   ]
  },
  {
   "cell_type": "markdown",
   "id": "4b98a609-65f8-40a1-bc1b-df153f02a502",
   "metadata": {},
   "source": [
    "# Longest Consecutive Sequence"
   ]
  },
  {
   "cell_type": "code",
   "execution_count": null,
   "id": "7a86879b-4074-4ae5-b87b-4533d9daa944",
   "metadata": {},
   "outputs": [],
   "source": [
    "class Solution:\n",
    "    def longestConsecutive(self, nums: List[int]) -> int:\n",
    "        numset = set(nums) # Making a set out of nums\n",
    "        longest = 0 # Keeping track of the longest sequence.\n",
    "\n",
    "        for n in nums:\n",
    "            # Check if its the start of a sequence.\n",
    "            if (n - 1) not in numset: # Checking if the element has a number 1 less than it within the set of numbers. If this is the case length = 0.\n",
    "                length = 0\n",
    "                while(n + length) in numset: # The loop continues to increment the length variable until it reaches a number that is not in the numset.\n",
    "                    length += 1\n",
    "                longest = max(length, longest)\n",
    "        return longest"
   ]
  }
 ],
 "metadata": {
  "kernelspec": {
   "display_name": "Python 3 (ipykernel)",
   "language": "python",
   "name": "python3"
  },
  "language_info": {
   "codemirror_mode": {
    "name": "ipython",
    "version": 3
   },
   "file_extension": ".py",
   "mimetype": "text/x-python",
   "name": "python",
   "nbconvert_exporter": "python",
   "pygments_lexer": "ipython3",
   "version": "3.9.12"
  }
 },
 "nbformat": 4,
 "nbformat_minor": 5
}
