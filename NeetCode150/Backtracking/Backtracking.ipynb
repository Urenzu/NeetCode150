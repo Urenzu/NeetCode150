{
 "cells": [
  {
   "cell_type": "markdown",
   "id": "bf11af95-f91c-41da-980a-829af5e47af9",
   "metadata": {},
   "source": [
    "# Subsets"
   ]
  },
  {
   "cell_type": "code",
   "execution_count": null,
   "id": "763bdb7f-82e3-44df-a800-6d4e75b70d31",
   "metadata": {},
   "outputs": [],
   "source": [
    "class Solution:\n",
    "    def subsets(self, nums: List[int]) -> List[List[int]]:\n",
    "        # With backtracking as you go through the arrays you'll create a tree creating unique lists. With each expansion of the tree you'll create a list with and without the value at that given time then you'll move on and increment the integer. Power set = n * 2^n\n",
    "        res = []\n",
    "\n",
    "        subset = []\n",
    "        def dfs(i): # Passing the index of the value we're making the decision on\n",
    "            if i >= len(nums):\n",
    "                res.append(subset.copy()) # Append a copy of the subset to our result array\n",
    "                return\n",
    "            \n",
    "            # Decision to include nums[i]\n",
    "            subset.append(nums[i])\n",
    "            dfs(i + 1)\n",
    "\n",
    "            # Decision NOT to include nums[i]\n",
    "            subset.pop()\n",
    "            dfs(i + 1)\n",
    "\n",
    "        dfs(0)\n",
    "        return res\n"
   ]
  },
  {
   "cell_type": "markdown",
   "id": "201ebb14-6ea4-4393-8b51-43cbcd21a0f6",
   "metadata": {},
   "source": [
    "# Combination Sum"
   ]
  },
  {
   "cell_type": "code",
   "execution_count": null,
   "id": "aec39afa-e765-4dbd-bcd1-94cf6a707647",
   "metadata": {},
   "outputs": [],
   "source": [
    "class Solution:\n",
    "    def combinationSum(self, candidates: List[int], target: int) -> List[List[int]]:\n",
    "        res = []\n",
    "\n",
    "        \n",
    "        def dfs(i, cur, total): # I keeps track of current number we're on, cur keeps track of current combination, we want total to make sure we never go over the target value\n",
    "            if total == target:\n",
    "                res.append(cur.copy()) # While total is equal to target copy cur combination to result array\n",
    "                return\n",
    "            if i >= len(candidates) or total > target:\n",
    "                return\n",
    "\n",
    "            cur.append(candidates[i]) # DFS left \n",
    "            dfs(i, cur, total + candidates[i])\n",
    "\n",
    "            cur.pop() # DFS right\n",
    "            dfs(i + 1, cur, total)\n",
    "\n",
    "        dfs(0, [], 0)\n",
    "        return res\n"
   ]
  },
  {
   "cell_type": "markdown",
   "id": "4815f275-a44c-4521-980f-80a84a70992b",
   "metadata": {},
   "source": [
    "# Permutations"
   ]
  },
  {
   "cell_type": "code",
   "execution_count": null,
   "id": "dc31bd1a-82b3-45b0-8535-d001c411aade",
   "metadata": {},
   "outputs": [],
   "source": [
    "class Solution:\n",
    "    def permute(self, nums: List[int]) -> List[List[int]]:\n",
    "        result = []\n",
    "\n",
    "        # base case\n",
    "        if (len(nums) == 1): # one value == one permutation\n",
    "            return [nums[:]]\n",
    "        \n",
    "        for i in range(len(nums)):\n",
    "            n = nums.pop(0) # Pop first number and get permutations of other two values.\n",
    "            perms = self.permute(nums)\n",
    "\n",
    "            for perm in perms:\n",
    "                perm.append(n)\n",
    "            result.extend(perms) # Extend list by adding value we got rid of in the beginning\n",
    "            nums.append(n)\n",
    "        \n",
    "        return result\n"
   ]
  },
  {
   "cell_type": "markdown",
   "id": "af6a3b7a-a059-4990-aa41-7ef453e69219",
   "metadata": {},
   "source": [
    "# Subsets II"
   ]
  },
  {
   "cell_type": "code",
   "execution_count": null,
   "id": "b93c71c6-2f73-43c1-9562-1692a7a7b36a",
   "metadata": {},
   "outputs": [],
   "source": [
    "class Solution:\n",
    "    def subsetsWithDup(self, nums: List[int]) -> List[List[int]]:\n",
    "        res = []\n",
    "        nums.sort()\n",
    "\n",
    "        def backtrack(i, subset):\n",
    "            if i == len(nums):\n",
    "                res.append(subset[::]) # Copy subset for output (Built in python function)\n",
    "                return\n",
    "            \n",
    "            # All subsets that include nums[i]\n",
    "            subset.append(nums[i])\n",
    "            backtrack(i + 1, subset) # Generates subset with that value\n",
    "            subset.pop() # Pops the value we added\n",
    "\n",
    "            # All subsets that don't include nums[i]\n",
    "            while i + 1 < len(nums) and nums[i] == nums[i + 1]: # While we have duplicate values within our array we skip the values\n",
    "                i += 1 # Skip to the next value\n",
    "            backtrack( i + 1, subset)\n",
    "        backtrack(0, [])\n",
    "        return res\n",
    "\n"
   ]
  },
  {
   "cell_type": "markdown",
   "id": "e4d325aa-0c38-46d5-8223-bc6832dd5f3c",
   "metadata": {},
   "source": [
    "# Combination Sum II"
   ]
  },
  {
   "cell_type": "code",
   "execution_count": null,
   "id": "5218092b-8bf8-488d-9311-d8520c1bff9c",
   "metadata": {},
   "outputs": [],
   "source": [
    "class Solution:\n",
    "    def combinationSum2(self, candidates: List[int], target: int) -> List[List[int]]:\n",
    "        candidates.sort()\n",
    "\n",
    "        res = []\n",
    "        def backtracking(cur, pos, target): # Current combination, index, and then our target anytime we add a candidate we're decreasing the target\n",
    "            if target == 0: # We found a solution\n",
    "                res.append(cur.copy()) \n",
    "            if target <= 0:\n",
    "                return\n",
    "            \n",
    "            prev = -1\n",
    "            for i in range(pos, len(candidates)): # As we iterate we append the current value and scale to the next value while subtracting the value from our target. Meanwhile as we iterate through values we pop previously appended values.\n",
    "                if candidates[i] == prev: # will never happen on first iterate\n",
    "                    continue\n",
    "                cur.append(candidates[i])\n",
    "                backtracking(cur, i + 1, target - candidates[i])\n",
    "                cur.pop()\n",
    "\n",
    "                prev = candidates[i] # Keeping track of all values within prev, if we have duplicate lists of  alues then we continue.\n",
    "        backtracking([], 0, target)\n",
    "        return res"
   ]
  },
  {
   "cell_type": "markdown",
   "id": "b3e5a69d-324e-4a8c-b90f-ca0584ab98c8",
   "metadata": {},
   "source": [
    "# Word Search"
   ]
  },
  {
   "cell_type": "code",
   "execution_count": null,
   "id": "8d22e21f-f0a2-4ae4-acb1-5724f9d5bdcd",
   "metadata": {},
   "outputs": [],
   "source": [
    "class Solution:\n",
    "    def exist(self, board: List[List[str]], word: str) -> bool:\n",
    "        ROWS, COLS = len(board), len(board[0])\n",
    "        path = set() # Adding all of our current positions within the board so we don't reuse the same path.\n",
    "\n",
    "        def dfs(r, c, i):\n",
    "            if i == len(word):\n",
    "                return True\n",
    "            if (r < 0 or c < 0 or r >= ROWS or c >= COLS or word[i] != board[r][c] or (r, c) in path): # While out of bounds or character not equal to character we need or path already established return False.\n",
    "                return False\n",
    "\n",
    "            path.add((r, c)) # Else we have a character we need so we shift to another position.\n",
    "            res = (dfs(r + 1, c, i + 1) or\n",
    "                   dfs(r - 1, c, i + 1) or\n",
    "                   dfs(r, c + 1, i + 1) or\n",
    "                   dfs(r, c - 1, i + 1))\n",
    "            path.remove((r, c)) # Remove path set because we may end up in the same position again\n",
    "            return res\n",
    "\n",
    "        for r in range(ROWS): # O(n * m * 4^n) We run for every row and column that exists.\n",
    "            for c in range(COLS):\n",
    "                if dfs(r, c, 0): return True\n",
    "        return False"
   ]
  },
  {
   "cell_type": "markdown",
   "id": "50f24c0a-5702-4c56-8879-76dad6bf3b21",
   "metadata": {},
   "source": [
    "# Palindrome Partitioning"
   ]
  },
  {
   "cell_type": "code",
   "execution_count": null,
   "id": "3ad59284-f285-4c47-ae41-6ceafa02c0bd",
   "metadata": {},
   "outputs": [],
   "source": [
    "class Solution:\n",
    "    def partition(self, s: str) -> List[List[str]]:\n",
    "        res = [] # Palindrome completion\n",
    "        part = [] # Iterating towards completion\n",
    "\n",
    "        def dfs(i): # Index of the character\n",
    "            if i == len(s): # The result lists have to have 3 strings, each string within the lists needs to be palindrome.\n",
    "                res.append(part.copy()) # Once we filled up a list of valid palidrome strings\n",
    "            for j in range(i, len(s)): # While we go through all characters within input s\n",
    "                if s[i:j+1] == s[i:j+1][::-1]:\n",
    "                    part.append(s[i:j+1]) # appending i and j value within string s\n",
    "                    dfs(j + 1) # Recurse to the next element within range of i\n",
    "                    part.pop() # pop valid palindrome list of characters to our res list\n",
    "        dfs(0)\n",
    "        return res\n"
   ]
  },
  {
   "cell_type": "markdown",
   "id": "cf2cb214-f8de-4fc2-bd93-86cd6c3a9946",
   "metadata": {},
   "source": [
    "# Letter Combinations of a Phone Number"
   ]
  },
  {
   "cell_type": "code",
   "execution_count": null,
   "id": "363255f3-adef-42be-b7a4-95b8733fa737",
   "metadata": {},
   "outputs": [],
   "source": [
    "class Solution:\n",
    "    def letterCombinations(self, digits: str) -> List[str]:\n",
    "        res = []\n",
    "        digitToChar = {\n",
    "            \"2\": \"abc\",\n",
    "            \"3\": \"def\",\n",
    "            \"4\": \"ghi\",\n",
    "            \"5\": \"jkl\",\n",
    "            \"6\": \"mno\",\n",
    "            \"7\": \"qprs\",\n",
    "            \"8\": \"tuv\",\n",
    "            \"9\": \"wxyz\"\n",
    "        }\n",
    "\n",
    "        def backtrack(i, cur):\n",
    "            if len(cur) == len(digits):\n",
    "                res.append(cur)\n",
    "                return\n",
    "            \n",
    "            for c in digitToChar[digits[i]]: # number values pinned to strings of characters, by back tracking we generate all possible letter combinations of the given digits.\n",
    "                backtrack(i + 1, cur + c) # As we build the strings we take a characters from one digit, increment and then take another character from the other digit.\n",
    "        \n",
    "        if digits:\n",
    "            backtrack(0, \"\")\n",
    "        \n",
    "        return res"
   ]
  },
  {
   "cell_type": "markdown",
   "id": "92466835-09d0-4d16-a893-a4245a3119b1",
   "metadata": {},
   "source": [
    "# N Queens"
   ]
  },
  {
   "cell_type": "code",
   "execution_count": null,
   "id": "48dcebd4-8d61-44fe-a5c9-9a2b82a47cff",
   "metadata": {},
   "outputs": [],
   "source": [
    "class Solution:\n",
    "    def solveNQueens(self, n: int) -> List[List[str]]:\n",
    "        col = set()\n",
    "        pos = set() # (r + c)\n",
    "        neg = set() # (r - c)\n",
    "\n",
    "        res = []\n",
    "        board = [[\".\"] * n for i in range(n)] # Creating board and empty non-queen tiles n * n\n",
    "\n",
    "        def backtrack(r):\n",
    "            if r == n: # row == n or if we have enough rows which equal to our given size of chessboard\n",
    "                copy = [\"\".join(row) for row in board]\n",
    "                res.append(copy) # Copying completed rows from our board into our result array\n",
    "                return\n",
    "            \n",
    "            for c in range(n):\n",
    "                if c in col or (r + c) in pos or (r - c) in neg: # Don't use this position while the column is a value in our pos or neg sets. This indicates a position of queen disturbance\n",
    "                    continue\n",
    "                # Else if we have an open position...\n",
    "                col.add(c) # Add that position in our queen column set\n",
    "                pos.add(r + c) # Add the positive diagonal positions within our set indicating we can't put a queen here\n",
    "                neg.add(r - c) # Add the negative diagonal positions within our set indicating we can't put a queen here\n",
    "                board[r][c] = \"Q\" # Given our position within the rows and columns set that position to a Q for queen\n",
    "\n",
    "                backtrack(r + 1) # Restart our function iterating to the next row\n",
    "\n",
    "                col.remove(c) # We do this to reset data in order to explore new positions\n",
    "                pos.remove(r + c)\n",
    "                neg.remove(r - c) \n",
    "                board[r][c] = \".\"\n",
    "\n",
    "        backtrack(0)\n",
    "        return res\n"
   ]
  }
 ],
 "metadata": {
  "kernelspec": {
   "display_name": "Python 3 (ipykernel)",
   "language": "python",
   "name": "python3"
  },
  "language_info": {
   "codemirror_mode": {
    "name": "ipython",
    "version": 3
   },
   "file_extension": ".py",
   "mimetype": "text/x-python",
   "name": "python",
   "nbconvert_exporter": "python",
   "pygments_lexer": "ipython3",
   "version": "3.9.12"
  }
 },
 "nbformat": 4,
 "nbformat_minor": 5
}
