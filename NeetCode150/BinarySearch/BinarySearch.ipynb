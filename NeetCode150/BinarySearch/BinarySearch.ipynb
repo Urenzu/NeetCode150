{
 "cells": [
  {
   "cell_type": "markdown",
   "id": "b699bae4-b819-4e6c-b996-3e0a809ee254",
   "metadata": {},
   "source": [
    "# Binary Seach"
   ]
  },
  {
   "cell_type": "code",
   "execution_count": null,
   "id": "ebc0181b-d3c5-43aa-a2e4-3300329ea1e2",
   "metadata": {},
   "outputs": [],
   "source": [
    "class Solution:\n",
    "    def search(self, nums: List[int], target: int) -> int:\n",
    "        # sorted ascending order\n",
    "        # log2^n = x, 2^x = n\n",
    "        l, r = 0, len(nums) - 1 # left starts at zero and right starts at total number of numbers - 1 because we include 0.\n",
    "\n",
    "        while l <= r: # In binary search what matters is that the left pointer doesn't cross the right pointer, if left is greater than right than that's how we know we checked and didn't find the result. While both values are equal this means we haven't ran through the code and looked. This matters because of us doing l = m + 1\n",
    "            m = l + (r - l) // 2 # middle = left + (right - left) // 2. If we have array of 10, this will be 9 - 0 / 2 and then we add one more value to represent 0. We do this to prevent overflowing errors where the input array is too big.\n",
    "            if nums[m] > target: # If nums[m] > target then the value is smaller and we will set our right pointer to middle - 1.\n",
    "                r = m - 1\n",
    "            elif nums[m] < target: # If nums[m] < target then the value is bigger and we will set our left pointer to middle + 1.\n",
    "                l = m + 1\n",
    "            else: # If they're equal then return m\n",
    "                return m\n",
    "\n",
    "        return -1 # If we don't find the value return -1."
   ]
  },
  {
   "cell_type": "markdown",
   "id": "212117e1-f0ca-4508-b604-56b41c5ef678",
   "metadata": {},
   "source": [
    "# Search a 2D Matrix"
   ]
  },
  {
   "cell_type": "code",
   "execution_count": null,
   "id": "53530952-7657-4131-9a12-8dcb82c93ca2",
   "metadata": {},
   "outputs": [],
   "source": [
    "class Solution:\n",
    "    def searchMatrix(self, matrix: List[List[int]], target: int) -> bool:\n",
    "        ROWS, COLS = len(matrix), len(matrix[0]) # Columns is our starting value and what we're iterating through first.\n",
    "\n",
    "        top, bot = 0, ROWS - 1 # top row is 0 because that's where we're starting\n",
    "        while top <= bot: # While we need to iterate through more rows\n",
    "            row = (top + bot) // 2 # Splitting the columns and finding the middle row\n",
    "            if target > matrix[row][-1]: # While target value is greater than the last value (biggest) in the row shift down to another row with bigger integers.\n",
    "                top = row + 1\n",
    "            elif target < matrix[row][0]: # While target value is less than the last value (biggest) in the row shift up to another row with smaller integers.\n",
    "                bot = row - 1\n",
    "            else:\n",
    "                break # Move on once we've gone through every column\n",
    "        \n",
    "        if not (top <= bot): # This means the target value is not within any of our columns.\n",
    "            return False\n",
    "\n",
    "        row = (top + bot) // 2\n",
    "        l, r = 0, COLS - 1 # Assign variables we need for binary search on proper row\n",
    "\n",
    "        while l <= r: # While bringing variables closer to each other\n",
    "            m = (l + r) // 2 # Find middle\n",
    "            if target > matrix[row][m]: # While target > middle adjust left\n",
    "                l = m + 1\n",
    "            elif target < matrix[row][m]: # While target < middle adjust right\n",
    "                r = m - 1\n",
    "            else: # This means we found the variables  target == m\n",
    "                return True\n",
    "        \n",
    "        return False # This means the target variable was not in final row\n"
   ]
  },
  {
   "cell_type": "markdown",
   "id": "749573de-bbbe-44b4-87d4-500805774250",
   "metadata": {},
   "source": [
    "# Koko Eating Bananas"
   ]
  },
  {
   "cell_type": "code",
   "execution_count": null,
   "id": "b64c98ec-ba0c-4728-97eb-81ccfd7055ef",
   "metadata": {},
   "outputs": [],
   "source": [
    "class Solution:\n",
    "    def minEatingSpeed(self, piles: List[int], h: int) -> int:\n",
    "        # which means that a person can eat at most one banana per hour. The maximum possible value of \"k\" should be such that a person can eat all the bananas in the largest pile within \"h\" hours. Since the largest pile determines the rate at which bananas can be eaten, we set \"r\" to the maximum value in \"piles\" to ensure that we consider a search range that includes all possible values of \"k\" that are greater than or equal to 1 and less than or equal to the rate needed to eat all bananas in the largest pile within \"h\" hours.\n",
    "        l, r = 1, max(piles)\n",
    "        res = r # Max in piles\n",
    "\n",
    "        while l <= r: \n",
    "            k = (l + r) // 2 # Get middle value\n",
    "            hours = 0 # hours\n",
    "            for p in piles: # For values in piles\n",
    "                hours += math.ceil(p / k) # Rounds up and accumulates the hours it takes to eat the bananas\n",
    "            if hours <= h: # While hours is less than target hour goal we'll search for a better value\n",
    "                res = min(res, k) # If so we have a new minimum to potentially return but we want to look for another minimum so we keep repeating binary search until left and right pointers pass.\n",
    "                r = k - 1\n",
    "            else:\n",
    "                l = k + 1\n",
    "\n",
    "        return res\n"
   ]
  },
  {
   "cell_type": "markdown",
   "id": "afd56442-0b94-4cc9-b196-fb76d7676b6f",
   "metadata": {},
   "source": [
    "# Find Minimum In Rotated Sorted Array\t\n"
   ]
  },
  {
   "cell_type": "code",
   "execution_count": null,
   "id": "1bf17f72-aed4-41b9-8180-6d1fb270bd72",
   "metadata": {},
   "outputs": [],
   "source": [
    "class Solution:\n",
    "    def findMin(self, nums: List[int]) -> int:\n",
    "        res = nums[0]\n",
    "        l, r = 0, len(nums) - 1\n",
    "\n",
    "        while l <= r:\n",
    "            if nums[l] < nums[r]: # While left is less than right update minimum value\n",
    "                res = min(res, nums[l])\n",
    "                break\n",
    "            \n",
    "            m = (l + r) // 2 # Search for middle and then set min \n",
    "            res = min(res, nums[m])\n",
    "            if nums[m] >= nums[l]: # If middle greater than left that means currently we're in the greater number sorted portion. While nums[m] < nums[l] we're within the short integer segment and every integer to the left is shorter so we need to search through that section.\n",
    "                l = m + 1\n",
    "            else:\n",
    "                r = m - 1\n",
    "            \n",
    "        return res\n"
   ]
  },
  {
   "cell_type": "markdown",
   "id": "7243e94a-b4f2-4476-a68f-fa3b92d61dad",
   "metadata": {},
   "source": [
    "# Find Minimum in Rotated Sorted Array"
   ]
  },
  {
   "cell_type": "code",
   "execution_count": null,
   "id": "49733a74-015c-4372-80cd-7da11466f916",
   "metadata": {},
   "outputs": [],
   "source": [
    "class Solution:\n",
    "    def search(self, nums: List[int], target: int) -> int:\n",
    "        l, r = 0, len(nums) - 1\n",
    "\n",
    "        while l <= r: # [1] in this case left and right is equal but we still have to check value so don't do only less than (<).\n",
    "            m = (l + r) // 2\n",
    "            if target == nums[m]: # First edge case to see if mid is target value.\n",
    "                return m\n",
    "            \n",
    "            # Left sorted portion\n",
    "            if nums[l] <= nums[m]:\n",
    "                if target > nums[m] or target < nums[l]: # Both cases, Bigger number left of middle or target number is in smaller group on the right side of middle.\n",
    "                    l = m + 1\n",
    "                else:\n",
    "                    r = m - 1\n",
    "            # Right sorted portion\n",
    "            else:\n",
    "                if target < nums[m] or target > nums[r]: # Both cases, smaller numer left of middle or bigger number at the other section of sorted numbers and we're in the smaller section.\n",
    "                    r = m - 1\n",
    "                else:\n",
    "                    l = m + 1\n",
    "            \n",
    "            # Matter of knowing when to shift to different sorted sections. \n",
    "\n",
    "        return -1"
   ]
  },
  {
   "cell_type": "markdown",
   "id": "c97cac88-2881-4122-ac97-291f2a679e4b",
   "metadata": {},
   "source": [
    "# Time Based Key-Value Store"
   ]
  },
  {
   "cell_type": "code",
   "execution_count": null,
   "id": "2bf48bf6-93a4-4ed4-8b69-4ce95b3b9384",
   "metadata": {},
   "outputs": [],
   "source": [
    "class TimeMap:\n",
    "\n",
    "    def __init__(self):\n",
    "        self.store = {} # (Hashmap) key : list of [value, timestamp]\n",
    "\n",
    "\n",
    "    def set(self, key: str, value: str, timestamp: int) -> None:\n",
    "        if key not in self.store:\n",
    "            self.store[key] = [] # Create a new key which will store the value and timestamp\n",
    "        self.store[key].append([value, timestamp]) # Here we store within key our value and timestamp\n",
    "\n",
    "    def get(self, key: str, timestamp: int) -> str:\n",
    "        res = \"\" # Default is return an empty list\n",
    "        values = self.store.get(key, []) # Our values within our hashmap from self.store get the key and the given value and timestamp we need these for binary search and we're searching through timestamp values since they're in ascending order.\n",
    "\n",
    "        # Binary search\n",
    "        l, r = 0, len(values) - 1\n",
    "\n",
    "        while l <= r:\n",
    "            m = (l + r) // 2\n",
    "\n",
    "            if values[m][1] <= timestamp: # If middle value timestamp 1 is less than the timestamp we're searching for then we're looking for a timestamp bigger so we need to increment up our hashmap.\n",
    "                res = values[m][0]\n",
    "                l = m + 1\n",
    "            else: # We need a smaller time stamp so we push our binary search down.\n",
    "                r = m - 1\n",
    "        return res\n",
    "\n",
    "# Your TimeMap object will be instantiated and called as such:\n",
    "# obj = TimeMap()\n",
    "# obj.set(key,value,timestamp)\n",
    "# param_2 = obj.get(key,timestamp)"
   ]
  },
  {
   "cell_type": "markdown",
   "id": "14005ab5-0e55-4c3d-811f-44c61506070f",
   "metadata": {},
   "source": [
    "# Median of Two Sorted Arrays"
   ]
  },
  {
   "cell_type": "code",
   "execution_count": null,
   "id": "2770f156-c7f2-4347-a321-9b9384f889d0",
   "metadata": {},
   "outputs": [],
   "source": [
    "class Solution:\n",
    "    def findMedianSortedArrays(self, nums1: List[int], nums2: List[int]) -> float:\n",
    "        A, B = nums1, nums2\n",
    "\n",
    "        total = len(nums1) + len(nums2) # Length of both arrays together\n",
    "        half = total // 2 # Half the length of the arrays\n",
    "\n",
    "        if len(B) < len(A): # While the length of array B is less than the length of array A...\n",
    "            A, B = B, A # B assigned to A, A assigned to B\n",
    "\n",
    "        l, r = 0, len(A) - 1\n",
    "\n",
    "        # Log(min(n, m))\n",
    "        while True: # While True creates an infinite loop until we return a final value\n",
    "            i = (l + r) // 2 # Getting the middle for A \n",
    "            j = half - i - 2 # middle value subtracted by middle value in other array, subtracted by 2 because of both initial indexes of the arrays. (0's)\n",
    "            \n",
    "            # It then calculates the values of Aleft, Aright, Bleft, and Bright based on the indices i and j. These values represent the left and right halves of A and B that would be present if A and B were merged and split in half at the median.\n",
    "            Aleft = A[i] if i >= 0 else float(\"-infinity\")\n",
    "            Aright = A[i + 1] if (i + 1) < len(A) else float(\"infinity\")\n",
    "            Bleft = B[j] if j >= 0 else float(\"-infinity\")\n",
    "            Bright = B[j + 1] if (j + 1) < len(B) else float(\"infinity\")\n",
    "\n",
    "            if Aleft <= Bright and Bleft <= Aright: # checks if the median is between Aleft and Bright and Bleft and Aright. If so, it checks if the total length is odd or even, and returns the appropriate median value.\n",
    "                # odd\n",
    "                if total % 2:\n",
    "                    return min(Aright, Bright)\n",
    "                # Even\n",
    "\n",
    "                return (max(Aleft, Bleft) + min(Aright, Bright)) / 2\n",
    "\n",
    "            elif Aleft > Bright:\n",
    "                 r = i - 1\n",
    "            else:\n",
    "                l = i + 1\n",
    "\n",
    "class Solution:\n",
    "    def findMedianSortedArrays(self, nums1: List[int], nums2: List[int]) -> float:\n",
    "        # Merge the two input lists\n",
    "        merged = sorted(nums1 + nums2)\n",
    "        \n",
    "        # Compute the length of the merged list and the index of the median element\n",
    "        n = len(merged)\n",
    "        mid = n // 2\n",
    "        \n",
    "        # Check if the merged list has an odd or even number of elements\n",
    "        if n % 2 == 1:\n",
    "            # If there are an odd number of elements, the median is the middle element\n",
    "            return merged[mid]\n",
    "        else:\n",
    "            # If there are an even number of elements, the median is the average of the two middle elements\n",
    "            return (merged[mid-1] + merged[mid]) / 2\n",
    "                        "
   ]
  }
 ],
 "metadata": {
  "kernelspec": {
   "display_name": "Python 3 (ipykernel)",
   "language": "python",
   "name": "python3"
  },
  "language_info": {
   "codemirror_mode": {
    "name": "ipython",
    "version": 3
   },
   "file_extension": ".py",
   "mimetype": "text/x-python",
   "name": "python",
   "nbconvert_exporter": "python",
   "pygments_lexer": "ipython3",
   "version": "3.9.12"
  }
 },
 "nbformat": 4,
 "nbformat_minor": 5
}
