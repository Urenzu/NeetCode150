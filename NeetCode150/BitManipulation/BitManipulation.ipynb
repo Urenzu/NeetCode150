{
 "cells": [
  {
   "cell_type": "markdown",
   "id": "87356a33-0cf4-40de-928a-9c76b7ae79c1",
   "metadata": {},
   "source": [
    "# Single Number"
   ]
  },
  {
   "cell_type": "code",
   "execution_count": null,
   "id": "41c43cc3-316b-4be2-aa09-990df0dd8d8e",
   "metadata": {},
   "outputs": [],
   "source": [
    "class Solution:\n",
    "    def singleNumber(self, nums: List[int]) -> int:\n",
    "        res = 0 # XOR result\n",
    "        for n in nums:\n",
    "            res = n ^ res\n",
    "        return res # Since we have duplicates and one unique value a xor operation will end up canceling out all duplicates and return the unique value\n",
    "    \n",
    "class Solution:\n",
    "    def singleNumber(self, nums: List[int]) -> int:\n",
    "        return reduce(lambda x, y: x ^ y, nums)"
   ]
  },
  {
   "cell_type": "markdown",
   "id": "4a3df1bb-65a1-4508-9d84-79c25ace2127",
   "metadata": {},
   "source": [
    "# Number of 1 Bits"
   ]
  },
  {
   "cell_type": "code",
   "execution_count": null,
   "id": "4a43efd4-faf5-46df-94bd-f2024db897dc",
   "metadata": {},
   "outputs": [],
   "source": [
    "class Solution:\n",
    "    def hammingWeight(self, n: int) -> int:\n",
    "        res = 0\n",
    "        while n: # While we still have bits to iterate through\n",
    "            res += n % 2 # See if n is a bit or not. If it's a bit 1 % 2 will result in one else we get a 0.\n",
    "            n = n >> 1 # Shift to the next bit\n",
    "        return res"
   ]
  },
  {
   "cell_type": "markdown",
   "id": "e013f6e2-1b65-4172-9ceb-9b1761817a8e",
   "metadata": {},
   "source": [
    "# Counting Bits"
   ]
  },
  {
   "cell_type": "code",
   "execution_count": null,
   "id": "581af605-3064-4144-bb18-9a49ba8970b1",
   "metadata": {},
   "outputs": [],
   "source": [
    "class Solution:\n",
    "    def countBits(self, n: int) -> List[int]:\n",
    "        dp = [0] * (n + 1)\n",
    "        offset = 1\n",
    "        for i in range(1, n + 1):\n",
    "            if offset * 2 == i: # Shifts our reference value back to one so we can increment 1 to the next 0. This makes all previous values 0 because we reference the starting value\n",
    "                offset = i\n",
    "            dp[i] = 1 + dp[i - offset] # Number of bits in binary\n",
    "        return dp"
   ]
  },
  {
   "cell_type": "markdown",
   "id": "4c2d7558-5b7b-4f46-9b92-5382a3a2eb0d",
   "metadata": {},
   "source": [
    "# Reverse Bits"
   ]
  },
  {
   "cell_type": "code",
   "execution_count": null,
   "id": "8622aeba-b51a-47eb-8924-21d8365e1fef",
   "metadata": {},
   "outputs": [],
   "source": [
    "class Solution:\n",
    "    def reverseBits(self, n: int) -> int:\n",
    "        res = 0\n",
    "\n",
    "        for i in range(32): # 32 bits\n",
    "            bit = (n >> i) & 1 # Shift ith bit then and with 1.\n",
    "            res = res | (bit << (31 - i)) # Doing or operations upon the rest of the integers.\n",
    "        return res\n"
   ]
  },
  {
   "cell_type": "markdown",
   "id": "bb1d1ce1-9030-4abf-8035-a7ea160b20fb",
   "metadata": {},
   "source": [
    "# Missing Number"
   ]
  },
  {
   "cell_type": "code",
   "execution_count": null,
   "id": "ead6f336-5e65-4448-a92b-66142500d390",
   "metadata": {},
   "outputs": [],
   "source": [
    "class Solution:\n",
    "    def missingNumber(self, nums: List[int]) -> int:\n",
    "        res = len(nums)\n",
    "\n",
    "        for i in range(len(nums)): # Add every value from 0 to length - 1, I implicitly goes to length - 1 by default.\n",
    "            res += (i - nums[i]) # Adding the index but subtracting nums from i.\n",
    "        return res"
   ]
  },
  {
   "cell_type": "markdown",
   "id": "9d9eb72b-b890-465d-92f1-5752c296d1ae",
   "metadata": {},
   "source": [
    "# Sum of Two Integers"
   ]
  },
  {
   "cell_type": "code",
   "execution_count": null,
   "id": "e3938731-1fc3-4cfd-9eed-ccc436475a2d",
   "metadata": {},
   "outputs": [],
   "source": [
    "class Solution:\n",
    "    def getSum(self, a: int, b: int) -> int:\n",
    "        return (lambda x : sum(x))([a, b])\n",
    "\n",
    "class Solution:\n",
    "    def getSum(self, a: int, b: int) -> int:\n",
    "        list = [a,b]\n",
    "        return sum(list)\n",
    "# There's issues doing this problem in python with bit manipulation so we just used the built in python function to get the sum of a list."
   ]
  },
  {
   "cell_type": "markdown",
   "id": "9a3332fc-713b-43fe-bd5c-084b52645226",
   "metadata": {},
   "source": [
    "# Reverse Integer"
   ]
  },
  {
   "cell_type": "code",
   "execution_count": null,
   "id": "8dc55568-47fd-4f50-8c7a-742c77e6ec0e",
   "metadata": {},
   "outputs": [],
   "source": [
    "class Solution:\n",
    "    def reverse(self, x: int) -> int:\n",
    "        # Integer.MAX_VALUE = 2147483647 (end with 7)\n",
    "        # Integer.MIN_VALUE = -2147483648 (end with -8 )\n",
    "\n",
    "        MIN = -2147483648  # -2^31,\n",
    "        MAX = 2147483647  #  2^31 - 1\n",
    "\n",
    "        res = 0\n",
    "        while x:\n",
    "            digit = int(math.fmod(x, 10))  # (python dumb) -1 %  10 = 9\n",
    "            x = int(x / 10)  # (python dumb) -1 // 10 = -1\n",
    "\n",
    "            if res > MAX // 10 or (res == MAX // 10 and digit > MAX % 10):\n",
    "                return 0\n",
    "            if res < MIN // 10 or (res == MIN // 10 and digit < MIN % 10):\n",
    "                return 0\n",
    "            res = (res * 10) + digit\n",
    "\n",
    "        return res"
   ]
  }
 ],
 "metadata": {
  "kernelspec": {
   "display_name": "Python 3 (ipykernel)",
   "language": "python",
   "name": "python3"
  },
  "language_info": {
   "codemirror_mode": {
    "name": "ipython",
    "version": 3
   },
   "file_extension": ".py",
   "mimetype": "text/x-python",
   "name": "python",
   "nbconvert_exporter": "python",
   "pygments_lexer": "ipython3",
   "version": "3.9.12"
  }
 },
 "nbformat": 4,
 "nbformat_minor": 5
}
