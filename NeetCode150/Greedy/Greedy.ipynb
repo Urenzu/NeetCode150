{
 "cells": [
  {
   "cell_type": "markdown",
   "id": "e7493865-c017-46d6-a9c9-46a91f543208",
   "metadata": {},
   "source": [
    "# Maximum Subarray"
   ]
  },
  {
   "cell_type": "code",
   "execution_count": null,
   "id": "ac9b7b9e-2134-42d5-bb92-7569b7c4bb61",
   "metadata": {},
   "outputs": [],
   "source": [
    "class Solution:\n",
    "    def maxSubArray(self, nums: List[int]) -> int:\n",
    "        maxSub = nums[0] # first put our max sum as the first variable\n",
    "        curSum = 0 # Then make our current sum 0\n",
    "\n",
    "        for n in nums: # While we iterate through nums...\n",
    "            if curSum < 0: # add n to the current sum however if the current sum goes below 0 just make it 0\n",
    "                curSum = 0\n",
    "            curSum += n\n",
    "            maxSub = max(maxSub, curSum) # Everytime we increment our sum compare it to previous max sums\n",
    "        return maxSub"
   ]
  },
  {
   "cell_type": "markdown",
   "id": "34c58ae5-0a43-43d1-a903-eae181180693",
   "metadata": {},
   "source": [
    "# Jump Game"
   ]
  },
  {
   "cell_type": "code",
   "execution_count": null,
   "id": "eba0a7dc-b076-4f80-9ec5-5d1d457c0fcb",
   "metadata": {},
   "outputs": [],
   "source": [
    "class Solution:\n",
    "    def canJump(self, nums: List[int]) -> bool:\n",
    "        goal = len(nums) - 1\n",
    "\n",
    "        for i in range(len(nums) - 1, -1, -1): # Start, end, step. Start at the end, end at the first index, step backwards\n",
    "            if i + nums[i] >= goal: # nums[i] = jump length, each new loop increment our goal post as we increment i\n",
    "                goal = i \n",
    "        return True if goal == 0 else False # If we got the goal value to reach the 0 index then return True else False"
   ]
  },
  {
   "cell_type": "markdown",
   "id": "c776765d-8029-45a0-9882-669e6eaa2a92",
   "metadata": {},
   "source": [
    "# Jump Game II"
   ]
  },
  {
   "cell_type": "code",
   "execution_count": null,
   "id": "fc464e41-6a84-462f-b80d-3b7a7b1b90b1",
   "metadata": {},
   "outputs": [],
   "source": [
    "class Solution:\n",
    "    def jump(self, nums: List[int]) -> int:\n",
    "        res = 0\n",
    "        l = r = 0\n",
    "\n",
    "        while r < len(nums) - 1: # Until right reached the very end, right will be our pointer that jumps the farthest\n",
    "            farthest = 0 # What location can jump the farthest\n",
    "            for i in range(l, r + 1): # From left to right inclusive (We do + 1 to make sure we actually go to right pointer)    \n",
    "                farthest = max(farthest, i + nums[i]) # Farthest location we can jump to nums[i] holds the jump value\n",
    "            l = r + 1 # Shift left value above r changing the window minimum\n",
    "            r = farthest # Window maxiumum\n",
    "            res += 1 # Jumps taken\n",
    "        return res"
   ]
  },
  {
   "cell_type": "markdown",
   "id": "57be3e09-f55a-4c45-9aac-6432f926ace4",
   "metadata": {},
   "source": [
    "# Gas Station"
   ]
  },
  {
   "cell_type": "code",
   "execution_count": null,
   "id": "2058e436-3559-49f5-a603-e28e56daaedd",
   "metadata": {},
   "outputs": [],
   "source": [
    "class Solution:\n",
    "    def canCompleteCircuit(self, gas: List[int], cost: List[int]) -> int:\n",
    "        if sum(gas) < sum(cost): # If cost is too high then there's no solution\n",
    "            return -1\n",
    "\n",
    "        total = 0\n",
    "        res = 0\n",
    "        for i in range(len(gas)):\n",
    "            total += (gas[i] - cost[i]) # As we iterate subtract cost from gas\n",
    "\n",
    "            if total < 0: # If calculation results in negative value reset total and go to the next index.\n",
    "                total = 0\n",
    "                res = i + 1\n",
    "        # Eventually we'll hit an index that works... just return that index\n",
    "        return res"
   ]
  },
  {
   "cell_type": "markdown",
   "id": "ce0daa94-6da1-4bb9-9344-731eec764742",
   "metadata": {},
   "source": [
    "# Hand of Straights"
   ]
  },
  {
   "cell_type": "code",
   "execution_count": null,
   "id": "32e0ac6c-c70a-47f7-822e-8640055c7337",
   "metadata": {},
   "outputs": [],
   "source": [
    "class Solution:\n",
    "    def isNStraightHand(self, hand: List[int], groupSize: int) -> bool:\n",
    "        if len(hand) % groupSize: # We need to make sure we can group everything equally\n",
    "            return False\n",
    "        \n",
    "        count = {}\n",
    "        for n in hand: # For numbers in hand get the count and start the counts at 0.\n",
    "            count[n] = 1 + count.get(n, 0)\n",
    "\n",
    "        minHeap = list(count.keys()) # Count values within minHeap\n",
    "        heapq.heapify(minHeap)\n",
    "\n",
    "        while minHeap:\n",
    "            first = minHeap[0] # minimum value\n",
    "\n",
    "            for i in range(first, first + groupSize): # Iterating through counts\n",
    "                if i not in count: # If integer doesn't exist return False else decrement the count\n",
    "                    return False\n",
    "                count[i] -= 1\n",
    "                if count[i] == 0: # If the count is 0 and the i value is not equal to the first value return false\n",
    "                    if i != minHeap[0]:\n",
    "                        return False\n",
    "                    heapq.heappop(minHeap) # While we have value equal to 0 pop it from the minHeap\n",
    "        return True"
   ]
  },
  {
   "cell_type": "markdown",
   "id": "ad74192a-b655-4d7e-bcfb-540c7c5f7566",
   "metadata": {},
   "source": [
    "# Merge Triplets to Form Target Triplet\t\n"
   ]
  },
  {
   "cell_type": "code",
   "execution_count": null,
   "id": "ab2cc121-c775-44ed-8cc7-3a8bb85f4d2c",
   "metadata": {},
   "outputs": [],
   "source": [
    "class Solution:\n",
    "    def mergeTriplets(self, triplets: List[List[int]], target: List[int]) -> bool:\n",
    "        good = set()\n",
    "\n",
    "        for t in triplets:\n",
    "            if t[0] > target[0] or t[1] > target[1] or t[2] > target[2]: # This will be the triplet we want to filter out because we want equal to target values or less than.\n",
    "                continue\n",
    "            # Index = position of triplet values\n",
    "            for i, v in enumerate(t):\n",
    "                if v == target[i]: # If we ever see a matching value to the target triplet\n",
    "                    good.add(i) # Add i to our good set.\n",
    "        return len(good) == 3 # If good values is == 3 return True else False\n"
   ]
  },
  {
   "cell_type": "markdown",
   "id": "1cbed687-0546-4d86-a899-e6ab0c8fc2e3",
   "metadata": {},
   "source": [
    "# Partition Labels"
   ]
  },
  {
   "cell_type": "code",
   "execution_count": null,
   "id": "2d8ddca7-3c25-48eb-b134-7155bdb4546c",
   "metadata": {},
   "outputs": [],
   "source": [
    "class Solution:\n",
    "    def partitionLabels(self, s: str) -> List[int]:\n",
    "        lastIndex = {} # char -> last index in s\n",
    "\n",
    "        for i, c in enumerate(s): # Allows us to iterate index and character\n",
    "            lastIndex[c] = i\n",
    "\n",
    "        res = [] # Tells us the size of each partition\n",
    "        size, end = 0, 0\n",
    "\n",
    "        for i, c in enumerate(s): # As we enumerate add our size\n",
    "            size += 1\n",
    "            end = max(end, lastIndex[c])\n",
    "\n",
    "            if i == end: # If I is the end append our current size\n",
    "                res.append(size)\n",
    "                size = 0\n",
    "        return res"
   ]
  },
  {
   "cell_type": "markdown",
   "id": "073e2a8c-791e-4c22-9736-ec219782edd3",
   "metadata": {},
   "source": [
    "# Valid Parenthesis String"
   ]
  },
  {
   "cell_type": "code",
   "execution_count": null,
   "id": "65fbdff8-d0d1-4adc-9a1b-25e8cbace0fa",
   "metadata": {},
   "outputs": [],
   "source": [
    "class Solution:\n",
    "    def checkValidString(self, s: str) -> bool:\n",
    "        leftMin, leftMax = 0, 0\n",
    "\n",
    "        for c in s:\n",
    "            if c == \"(\": # increment min and max when we have opening parenthesis\n",
    "                leftMin, leftMax = leftMin + 1, leftMax + 1\n",
    "            elif c == \")\": # decrement min and max when we have closing parenthesis\n",
    "                leftMin, leftMax = leftMin - 1, leftMax - 1\n",
    "            else: # We have an * so we can decrease the min and raise the max\n",
    "                leftMin, leftMax = leftMin - 1, leftMax + 1\n",
    "            if leftMax < 0: # When we don't have enough *s and many closing parenthesis \n",
    "                return False\n",
    "            if leftMin < 0: # s = ( * ) (\n",
    "                leftMin = 0\n",
    "        return leftMin == 0"
   ]
  }
 ],
 "metadata": {
  "kernelspec": {
   "display_name": "Python 3 (ipykernel)",
   "language": "python",
   "name": "python3"
  },
  "language_info": {
   "codemirror_mode": {
    "name": "ipython",
    "version": 3
   },
   "file_extension": ".py",
   "mimetype": "text/x-python",
   "name": "python",
   "nbconvert_exporter": "python",
   "pygments_lexer": "ipython3",
   "version": "3.9.12"
  }
 },
 "nbformat": 4,
 "nbformat_minor": 5
}
