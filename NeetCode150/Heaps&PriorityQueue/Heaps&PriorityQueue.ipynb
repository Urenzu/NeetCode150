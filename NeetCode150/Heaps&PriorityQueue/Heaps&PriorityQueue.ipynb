{
 "cells": [
  {
   "cell_type": "markdown",
   "id": "48fd0fa5-a22c-4a85-a9dc-2ae3580234f3",
   "metadata": {},
   "source": [
    "# Kth Largest Element In a Stream"
   ]
  },
  {
   "cell_type": "code",
   "execution_count": null,
   "id": "69d16720-31a7-41ee-9ed3-194db326c3fd",
   "metadata": {},
   "outputs": [],
   "source": [
    "class KthLargest:\n",
    "\n",
    "    def __init__(self, k: int, nums: List[int]):\n",
    "        # min heap with k largest integers\n",
    "        self.minHeap, self.k = nums, k\n",
    "        heapq.heapify(self.minHeap) # Construct min heap making all elements go in ascending order\n",
    "\n",
    "        while len(self.minHeap) > k: # While we're above the number count of k we pop elements from the heap... these will be our biggest elements\n",
    "            heapq.heappop(self.minHeap)\n",
    "\n",
    "    def add(self, val: int) -> int:\n",
    "        heapq.heappush(self.minHeap, val) # Adding elements to the heap\n",
    "\n",
    "        if len(self.minHeap) > self.k: # If after adding we're above k pop another value\n",
    "            heapq.heappop(self.minHeap)\n",
    "        return self.minHeap[0] # Always return the index 0 for min heap \n",
    "\n",
    "\n",
    "# Your KthLargest object will be instantiated and called as such:\n",
    "# obj = KthLargest(k, nums)\n",
    "# param_1 = obj.add(val)"
   ]
  },
  {
   "cell_type": "markdown",
   "id": "61cedeb1-bef9-41d8-ad4b-d2d6b8ec1ca4",
   "metadata": {},
   "source": [
    "# Last Stone Weight"
   ]
  },
  {
   "cell_type": "code",
   "execution_count": null,
   "id": "b1109b3a-5130-4b72-86d9-d9ccb113d85d",
   "metadata": {},
   "outputs": [],
   "source": [
    "class Solution:\n",
    "    def lastStoneWeight(self, stones: List[int]) -> int:\n",
    "        stones = [-s for s in stones] # for s in stones make s negative within the list, creating an array for our heap\n",
    "        heapq.heapify(stones) # Initializing our heap, heapq.heapify(list)\n",
    "\n",
    "        while len(stones) > 1:\n",
    "            first = heapq.heappop(stones) # Pops and returns the smallest element from the heap, and maintains the heap property.\n",
    "            second = heapq.heappop(stones)\n",
    "            if second > first:\n",
    "                heapq.heappush(stones, first - second)  # f = -8, s = -7 -> -8 - -7 = -1, if we have a difference in values we'll add the difference else we'll break both values\n",
    "\n",
    "        stones.append(0) # This works and is okay because the values in our heap are negative so appending 0 will go to the right of our last values.\n",
    "        return abs(stones[0]) # Will return the last remaining stone so the stone at index 0 and if that doesn't exist return 0.\n"
   ]
  },
  {
   "cell_type": "markdown",
   "id": "dcdb0548-4d98-4cf8-b5c5-c77a8122338d",
   "metadata": {},
   "source": [
    "# K Closest Points to Origin"
   ]
  },
  {
   "cell_type": "code",
   "execution_count": null,
   "id": "8cc29b86-3101-4176-a2ff-afccf07629cc",
   "metadata": {},
   "outputs": [],
   "source": [
    "class Solution:\n",
    "    def kClosest(self, points: List[List[int]], k: int) -> List[List[int]]:\n",
    "        minHeap = []\n",
    "        for x, y in points:\n",
    "            dist = (x ** 2) + (y ** 2) # squaring the x and y values of the coordinates to get the distance then we append distance, x, y to our minHeap. We don't need distance from two points we just need distance of the two points from the origin so we just have to square the values.\n",
    "            minHeap.append([dist, x, y]) # You can append specific types of values to the min heap or lists of values\n",
    "        heapq.heapify(minHeap) # Reordering the list to make sure it follows minimum heap conditions... values in ascending order\n",
    "        res = [] # Result array sending in pair of values closest to the origin\n",
    "        while k > 0: # While k exists and we still need to return a set of points...\n",
    "            dist, x, y = heapq.heappop(minHeap) # Pop specific values from the minHeap, The heappop function returns and removes the smallest element from the heap based on the first item of each element in the heap. So only dist matters when returning the minimum values.\n",
    "            res.append([x, y]) # Appending the coordinates that result in the minimum distance\n",
    "            k -= 1 # decrement the result value we need to send in to result in 0 so the loop doesn't run again\n",
    "        return res"
   ]
  },
  {
   "cell_type": "markdown",
   "id": "b925f443-0cfb-4b17-85cb-1844634ac899",
   "metadata": {},
   "source": [
    "# Kth Largest Element in an Array"
   ]
  },
  {
   "cell_type": "code",
   "execution_count": null,
   "id": "5db03bc1-eda3-4b5a-bd48-287dcd527d10",
   "metadata": {},
   "outputs": [],
   "source": [
    "class Solution:\n",
    "    def findKthLargest(self, nums: List[int], k: int) -> int:\n",
    "        # sort the array in descending order\n",
    "        nums_sorted = sorted(nums, reverse=True) # Default is reverse=False which means ascending... reverse=True means descending\n",
    "        # return the kth largest element\n",
    "        return nums_sorted[k-1]\n",
    "    \n",
    "# One-liner\n",
    "class Solution:\n",
    "    def findKthLargest(self, nums: List[int], k: int) -> int:\n",
    "        return sorted(nums, reverse=True)[k-1] # Just sort the array in descending order and return k largest value - 1 for index"
   ]
  },
  {
   "cell_type": "markdown",
   "id": "6e5aa0e9-abdc-492f-8794-d57749b6887a",
   "metadata": {},
   "source": [
    "# Task Scheduler"
   ]
  },
  {
   "cell_type": "code",
   "execution_count": null,
   "id": "66e21d83-40e2-42f0-9f5c-69cb2a52b362",
   "metadata": {},
   "outputs": [],
   "source": [
    "class Solution:\n",
    "    def leastInterval(self, tasks: List[str], n: int) -> int:\n",
    "        # Each task is 1 unit of time\n",
    "        # minimize idle time\n",
    "\n",
    "        count = Counter(tasks) # Counter is a hashmap and this will keep the counts of each value within our tasks\n",
    "        maxHeap = [ -cnt for cnt in count.values()] # Creating heap with negative values with all of the count values\n",
    "        heapq.heapify(maxHeap) # Orders teh data\n",
    "\n",
    "        time = 0\n",
    "        q = deque() # Pairs of values [-cnt, idleTime]\n",
    "\n",
    "        while maxHeap or q: # While we iterate through or maxHeap or q\n",
    "            time += 1\n",
    "\n",
    "            if maxHeap: # If we have a value in our maxheap\n",
    "                cnt = 1 + heapq.heappop(maxHeap) # Every time we iterate through a maxHeap count value we have to decrease the count in this case our values are negative so we just add 1.\n",
    "                if cnt:\n",
    "                    q.append([cnt, time + n]) # The current count value and the current time value added to the idle time n\n",
    "            \n",
    "            if q and q[0][1] == time: # if queue is not empty we connect ititial value and time value == time\n",
    "                heapq.heappush(maxHeap, q.popleft()[0]) # Then pop from heap, we return the time value once we've popped all values\n",
    "        return time\n"
   ]
  },
  {
   "cell_type": "markdown",
   "id": "5036d47f-afba-4784-955a-5566c12f426f",
   "metadata": {},
   "source": [
    "# Design Twitter"
   ]
  },
  {
   "cell_type": "code",
   "execution_count": null,
   "id": "b6fb483f-0956-4255-912f-8897ace1bce4",
   "metadata": {},
   "outputs": [],
   "source": [
    "class Twitter:\n",
    "\n",
    "    def __init__(self):\n",
    "        self.count = 0\n",
    "        self.tweetMap = defaultdict(list)    # Hashmap: userId -> hashSet of followerId\n",
    "        self.followMap = defaultdict(set)    # Hashmap: userId -> list of [Count, TweetId]\n",
    "\n",
    "    def postTweet(self, userId: int, tweetId: int) -> None:\n",
    "        self.tweetMap[userId].append([self.count, tweetId])\n",
    "        self.count -= 1 # Changing tweet quantity of user\n",
    "\n",
    "    def getNewsFeed(self, userId: int) -> List[int]:\n",
    "        res = [] # ordered starting from recent\n",
    "        minHeap = []\n",
    "\n",
    "        self.followMap[userId].add(userId)\n",
    "        for followeeId in self.followMap[userId]: # For followee's within followerMap of given user\n",
    "            if followeeId in self.tweetMap: # If they have tweeted before\n",
    "                index = len(self.tweetMap[followeeId]) - 1\n",
    "                count, tweetId = self.tweetMap[followeeId][index]\n",
    "                minHeap.append([count, tweetId, followeeId, index - 1])\n",
    "        heapq.heapify(minHeap)\n",
    "\n",
    "        while minHeap and len(res) < 10: # We only want the 10 most recent tweets\n",
    "            count, tweetId, followeeId, index = heapq.heappop(minHeap)\n",
    "            res.append(tweetId) # We only need tweetId so append it\n",
    "\n",
    "            if index >= 0:\n",
    "                count, tweetId = self.tweetMap[followeeId][index]\n",
    "                heapq.heappush(minHeap, [count, tweetId, followeeId, index - 1])\n",
    "        return res\n",
    "\n",
    "    def follow(self, followerId: int, followeeId: int) -> None:\n",
    "\n",
    "        self.followMap[followerId].add(followeeId) # This person with this followerId is now following this followee, so add it to the follow map\n",
    "\n",
    "    def unfollow(self, followerId: int, followeeId: int) -> None:\n",
    "        if followeeId in self.followMap[followerId]:\n",
    "            self.followMap[followerId].remove(followeeId) # Remove follower from followee map\n",
    "\n",
    "\n",
    "# Your Twitter object will be instantiated and called as such:\n",
    "# obj = Twitter()\n",
    "# obj.postTweet(userId,tweetId)\n",
    "# param_2 = obj.getNewsFeed(userId)\n",
    "# obj.follow(followerId,followeeId)\n",
    "# obj.unfollow(followerId,followeeId)"
   ]
  },
  {
   "cell_type": "markdown",
   "id": "b6908729-2342-4da0-bc43-5655a2cb182f",
   "metadata": {},
   "source": [
    "# Find Median From Data Stream"
   ]
  },
  {
   "cell_type": "code",
   "execution_count": null,
   "id": "7626100a-147c-40cf-a550-cc1ec9fc369d",
   "metadata": {},
   "outputs": [],
   "source": [
    "class MedianFinder:\n",
    "\n",
    "    def __init__(self):\n",
    "        # small heap <= large heap\n",
    "        # maxHeap - minHeap\n",
    "        # Roughly equal size heaps\n",
    "        self.small, self.large = [], []\n",
    "\n",
    "    def addNum(self, num: int) -> None:\n",
    "        heapq.heappush(self.small, -1 * num) # Pushing num to the small heap (maxHeap)\n",
    "\n",
    "        # Make sure every number in small is <= to every number in large\n",
    "        if(self.small and self.large and (-1 * self.small[0]) > self.large[0]): # if max value in our small heap is greater than the minimum value in our large heap\n",
    "            val = -1 * heapq.heappop(self.small)\n",
    "            heapq.heappush(self.large, val)\n",
    "\n",
    "            # What if size is uneven (difference greater than 1)\n",
    "        if len(self.small) > len(self.large) + 1:\n",
    "            val = -1 * heapq.heappop(self.small)\n",
    "            heapq.heappush(self.large, val)\n",
    "        if len(self.large) > len(self.small) + 1:\n",
    "            val = heapq.heappop(self.large)\n",
    "            heapq.heappush(self.small, -1 * val)                              \n",
    "\n",
    "    def findMedian(self) -> float:\n",
    "        if len(self.small) > len(self.large): # (Shows we have an odd number so this will be our median)\n",
    "            return -1 * self.small[0]\n",
    "        if len(self.large) > len(self.small):\n",
    "            return self.large[0]\n",
    "        # Else we calculate \n",
    "        return (-1 * self.small[0] + self.large[0]) / 2     \n",
    "\n",
    "\n",
    "# Your MedianFinder object will be instantiated and called as such:\n",
    "# obj = MedianFinder()\n",
    "# obj.addNum(num)\n",
    "# param_2 = obj.findMedian() "
   ]
  }
 ],
 "metadata": {
  "kernelspec": {
   "display_name": "Python 3 (ipykernel)",
   "language": "python",
   "name": "python3"
  },
  "language_info": {
   "codemirror_mode": {
    "name": "ipython",
    "version": 3
   },
   "file_extension": ".py",
   "mimetype": "text/x-python",
   "name": "python",
   "nbconvert_exporter": "python",
   "pygments_lexer": "ipython3",
   "version": "3.9.12"
  }
 },
 "nbformat": 4,
 "nbformat_minor": 5
}
