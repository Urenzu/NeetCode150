{
 "cells": [
  {
   "cell_type": "markdown",
   "id": "bdd72ec2-5437-46f4-9cad-cdafb0f2beb2",
   "metadata": {},
   "source": [
    "# Insert Interval"
   ]
  },
  {
   "cell_type": "code",
   "execution_count": null,
   "id": "82bf55bb-8486-4150-905c-db0de8321879",
   "metadata": {},
   "outputs": [],
   "source": [
    "class Solution:\n",
    "    def insert(self, intervals: List[List[int]], newInterval: List[int]) -> List[List[int]]:\n",
    "        res = []\n",
    "        # Intervals are [min, max]\n",
    "        for i in range(len(intervals)): \n",
    "            if newInterval[1] < intervals[i][0]: # If new interval end value is less than interval start value... (if new interval before)\n",
    "                res.append(newInterval)\n",
    "                return res + intervals[i:] # Returns are new interval + all intervals after it [i:] this returns all lists\n",
    "\n",
    "            elif newInterval[0] > intervals[i][1]:\n",
    "                res.append(intervals[i])\n",
    "\n",
    "            # If interval not greater or less than other interval well then they intersect and we need new minimum and maximum values\n",
    "            else:\n",
    "                newInterval = [min(newInterval[0], intervals[i][0]), max(newInterval[1], intervals[i][1])]\n",
    "        \n",
    "        res.append(newInterval) # We have to do this because of the case when our new interval is in front of our other intervals\n",
    "        # Even in our else statement we don't append our new interval to the result. This needs to happen.\n",
    "        return res\n"
   ]
  },
  {
   "cell_type": "markdown",
   "id": "80ac6c88-8ad2-4f84-af18-bc6e30bfd0c6",
   "metadata": {},
   "source": [
    "# Merge Intervals"
   ]
  },
  {
   "cell_type": "code",
   "execution_count": null,
   "id": "eb742525-3a9a-4aef-a3b7-9b25d666c906",
   "metadata": {},
   "outputs": [],
   "source": [
    "class Solution:\n",
    "    def merge(self, intervals: List[List[int]]) -> List[List[int]]:\n",
    "        intervals.sort( key = lambda i : i[0]) # Sorting our intevals by the start value, the list of lists will be in beginning ascending order\n",
    "        output = [intervals[0]]\n",
    "\n",
    "        for start, end in intervals[1:]: # for start and end because our list has two values, skipping first interval in list\n",
    "            last = output[-1][1] # End value of the most recent interval\n",
    "\n",
    "            if start <= last:\n",
    "                output[-1][1] = max(last, end) # Making the last interval the biggest end value available facilitating no overlap\n",
    "            else:\n",
    "                output.append([start, end]) \n",
    "        \n",
    "        return output\n"
   ]
  },
  {
   "cell_type": "markdown",
   "id": "533ba4c4-f8cf-4315-b211-c2c39e3e4153",
   "metadata": {},
   "source": [
    "# Non Overlapping Intervals"
   ]
  },
  {
   "cell_type": "code",
   "execution_count": null,
   "id": "9b7ef17b-c27d-47ab-85cd-308e461c90b7",
   "metadata": {},
   "outputs": [],
   "source": [
    "class Solution:\n",
    "    def eraseOverlapIntervals(self, intervals: List[List[int]]) -> int:\n",
    "        intervals.sort() # Automatically sorts by start value\n",
    "\n",
    "        res = 0 # Count of removals\n",
    "        prevEnd = intervals[0][1] # First end interval to prevEnd\n",
    "        for start, end in intervals[1:]:\n",
    "            if start >= prevEnd: # While we find new greater starts update our end variable\n",
    "                prevEnd = end\n",
    "            else: # Else we need to remove something so we update result and update prevEnd with the minimum end value\n",
    "                res += 1\n",
    "                prevEnd = min(end, prevEnd)\n",
    "\n",
    "        return res\n"
   ]
  },
  {
   "cell_type": "markdown",
   "id": "ceaae230-a522-4781-a34b-4416dba1a973",
   "metadata": {},
   "source": [
    "# Minimum Interval to Include Each Query"
   ]
  },
  {
   "cell_type": "code",
   "execution_count": null,
   "id": "2a2a2246-09ae-4e92-99b3-5161fd839c80",
   "metadata": {},
   "outputs": [],
   "source": [
    "class Solution:\n",
    "    def minInterval(self, intervals: List[List[int]], queries: List[int]) -> List[int]:\n",
    "        intervals.sort()\n",
    "\n",
    "        minHeap = []\n",
    "        res, i = {}, 0 # Hashset of values\n",
    "        for q in sorted(queries):\n",
    "            while i < len(intervals) and intervals[i][0] <= q: # While we iterate through intervals and initial start interval value is less than or equal to q... keep iterating until no more intervals or the interval is too far to the right for a query to belong to.\n",
    "                l, r = intervals[i]\n",
    "                heapq.heappush(minHeap, (r - l + 1, r)) # This loop keeps adding the size and end value of all intervals for the heap\n",
    "                i += 1\n",
    "            # Remove all intervals query doesn't belong to\n",
    "            while minHeap and minHeap[0][1] < q:# Accessing last value in first interval, if it's less than the query pop from the minHeap          \n",
    "                heapq.heappop(minHeap) # This pops all invalid intervals too far to the left\n",
    "            res[q] = minHeap[0][0] if minHeap else -1 # Result is within our now minimum interval else interval doesn't exist so -1, (assigns result)\n",
    "        return [res[q] for q in queries] # Return intervals in res[q] for all q in queries\n",
    "    "
   ]
  }
 ],
 "metadata": {
  "kernelspec": {
   "display_name": "Python 3 (ipykernel)",
   "language": "python",
   "name": "python3"
  },
  "language_info": {
   "codemirror_mode": {
    "name": "ipython",
    "version": 3
   },
   "file_extension": ".py",
   "mimetype": "text/x-python",
   "name": "python",
   "nbconvert_exporter": "python",
   "pygments_lexer": "ipython3",
   "version": "3.9.12"
  }
 },
 "nbformat": 4,
 "nbformat_minor": 5
}
