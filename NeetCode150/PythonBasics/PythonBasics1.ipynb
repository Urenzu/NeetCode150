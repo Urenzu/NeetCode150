{
 "cells": [
  {
   "cell_type": "code",
   "execution_count": 1,
   "id": "7a1a2471-efcd-4b86-96c1-2ecf6095f6ce",
   "metadata": {},
   "outputs": [
    {
     "name": "stdout",
     "output_type": "stream",
     "text": [
      "n =  0\n",
      "n = abc\n"
     ]
    }
   ],
   "source": [
    "# Variables are dynamically typed\n",
    "n = 0\n",
    "print('n = ', n)\n",
    "\n",
    "n = 'abc'\n",
    "print('n =', n)\n",
    "# Types are determined at runtime"
   ]
  },
  {
   "cell_type": "code",
   "execution_count": 4,
   "id": "e8e697fb-a16a-4da5-9bb1-80dfaffa56d9",
   "metadata": {},
   "outputs": [
    {
     "name": "stdout",
     "output_type": "stream",
     "text": [
      "n = None\n"
     ]
    }
   ],
   "source": [
    "# Multiple assignments\n",
    "n, m = 0, \"abc\"\n",
    "n, m, z = 0.125, \"abc\", False\n",
    "\n",
    "# Increment\n",
    "n = n + 1 \n",
    "n += 1\n",
    "# n ++ (Bad)\n",
    "\n",
    "# None is null\n",
    "n = 4\n",
    "n = None\n",
    "print(\"n =\", n)"
   ]
  },
  {
   "cell_type": "code",
   "execution_count": 5,
   "id": "3b52a0c4-7df4-499f-a300-7867cdab7e23",
   "metadata": {},
   "outputs": [],
   "source": [
    "# If statements don't need parentheses or curly braces\n",
    "\n",
    "n = 1\n",
    "if n > 2:\n",
    "    n -= 1\n",
    "elif n == 2:\n",
    "    n *= 2\n",
    "else:\n",
    "    n += 2"
   ]
  },
  {
   "cell_type": "code",
   "execution_count": 6,
   "id": "ba9258fe-1c54-484b-a2d1-c2e0db448b77",
   "metadata": {},
   "outputs": [],
   "source": [
    "# Parenthesis needed for multi-line conditions\n",
    "\n",
    "# and = &&\n",
    "# or == ||\n",
    "n, m = 1, 2\n",
    "if((n > 2 and n != m) or n == m):\n",
    "    n += 1"
   ]
  },
  {
   "cell_type": "code",
   "execution_count": 7,
   "id": "0e34c6f9-1819-49e0-b0e7-fd0e60c05b9e",
   "metadata": {},
   "outputs": [
    {
     "name": "stdout",
     "output_type": "stream",
     "text": [
      "0\n",
      "1\n",
      "2\n",
      "3\n",
      "4\n"
     ]
    }
   ],
   "source": [
    "# While loops are similar\n",
    "\n",
    "n = 0\n",
    "while n < 5:\n",
    "    print(n)\n",
    "    n += 1"
   ]
  },
  {
   "cell_type": "code",
   "execution_count": 10,
   "id": "204b649e-a9ef-42de-84ec-a182902af8dd",
   "metadata": {},
   "outputs": [
    {
     "name": "stdout",
     "output_type": "stream",
     "text": [
      "0\n",
      "1\n",
      "2\n",
      "3\n",
      "4\n",
      "2\n",
      "3\n",
      "4\n",
      "5\n",
      "5\n",
      "4\n",
      "3\n",
      "2\n"
     ]
    }
   ],
   "source": [
    "# Looping from i = 0 to i = 4, i is incremented automatically\n",
    "for i in range(5):\n",
    "    print(i)\n",
    "\n",
    "for i in range(2, 6):\n",
    "    print(i)\n",
    "\n",
    "for i in range(5, 1, -1):\n",
    "    print(i)"
   ]
  },
  {
   "cell_type": "code",
   "execution_count": 13,
   "id": "2e2523f4-3cff-44a2-bbf9-a90fba83cedf",
   "metadata": {},
   "outputs": [
    {
     "name": "stdout",
     "output_type": "stream",
     "text": [
      "2.5\n",
      "2\n",
      "2\n"
     ]
    }
   ],
   "source": [
    "# Division is decimal by default\n",
    "print(5 / 2)\n",
    "\n",
    "# Integer division\n",
    "print(5 // 2)\n",
    "\n",
    "# Integer division rounds down and not to 0.\n",
    "\n",
    "# The ideal workaround for integer division rounding to 0.\n",
    "print(int(5 // 2))"
   ]
  },
  {
   "cell_type": "code",
   "execution_count": 15,
   "id": "389f9861-0083-4432-965a-e112e421eb4f",
   "metadata": {},
   "outputs": [
    {
     "name": "stdout",
     "output_type": "stream",
     "text": [
      "1\n",
      "2\n",
      "-1.0\n"
     ]
    }
   ],
   "source": [
    "# Modding is similar to other languages:\n",
    "print(10 % 3)\n",
    "\n",
    "# Except for negative values, modding negative is weird\n",
    "print(-10 % 3)\n",
    "\n",
    "import math\n",
    "print(math.fmod(-10, 3))"
   ]
  },
  {
   "cell_type": "code",
   "execution_count": 16,
   "id": "3066f176-4bdc-4180-87c3-1955958c534c",
   "metadata": {},
   "outputs": [
    {
     "name": "stdout",
     "output_type": "stream",
     "text": [
      "1\n",
      "2\n",
      "1.4142135623730951\n",
      "8.0\n"
     ]
    }
   ],
   "source": [
    "# More math helpers\n",
    "import math\n",
    "print(math.floor(3 / 2))\n",
    "print(math.ceil(3 / 2))\n",
    "print(math.sqrt(2))\n",
    "print(math.pow(2,3))"
   ]
  },
  {
   "cell_type": "code",
   "execution_count": 18,
   "id": "460835a2-4584-4263-87b8-fe1f9c2ed56a",
   "metadata": {},
   "outputs": [
    {
     "name": "stdout",
     "output_type": "stream",
     "text": [
      "1.6069380442589903e+60\n",
      "True\n"
     ]
    }
   ],
   "source": [
    "# Max, min int\n",
    "float(\"inf\")\n",
    "float(\"-inf\")\n",
    "\n",
    "# Python integers are infinite so they never overflow\n",
    "import math\n",
    "print(math.pow(2,200))\n",
    "\n",
    "# Still less than infinity\n",
    "print(math.pow(2,200) < float(\"inf\"))"
   ]
  },
  {
   "cell_type": "code",
   "execution_count": 20,
   "id": "ad676f74-8498-4f1c-a61f-6d80dcd60d65",
   "metadata": {},
   "outputs": [
    {
     "name": "stdout",
     "output_type": "stream",
     "text": [
      "[1, 2, 3]\n",
      "[1, 2, 3, 4, 5]\n",
      "[1, 2, 3, 4]\n",
      "[1, 7, 2, 3, 4]\n",
      "[0, 7, 2, 0, 4]\n"
     ]
    }
   ],
   "source": [
    "# Arrays\n",
    "arr = [1, 2, 3]\n",
    "print(arr)\n",
    "\n",
    "# Can be used as a stack, they're dynamic arrays by default\n",
    "arr.append(4)\n",
    "arr.append(5)\n",
    "print(arr)\n",
    "\n",
    "arr.pop()\n",
    "print(arr)\n",
    "\n",
    "arr.insert(1,7) # O(n)\n",
    "print(arr)\n",
    "\n",
    "arr[0] = 0 # O(1)\n",
    "arr[3] = 0\n",
    "print(arr)"
   ]
  },
  {
   "cell_type": "code",
   "execution_count": 21,
   "id": "2d140e88-1902-499b-a63c-2de0dea91ebe",
   "metadata": {},
   "outputs": [
    {
     "name": "stdout",
     "output_type": "stream",
     "text": [
      "[1, 1, 1, 1, 1]\n",
      "5\n"
     ]
    }
   ],
   "source": [
    "# Initialize arr of size n with efault value of 1\n",
    "n = 5\n",
    "arr = [1] * n\n",
    "print(arr)\n",
    "print(len(arr))\n"
   ]
  },
  {
   "cell_type": "code",
   "execution_count": 23,
   "id": "8a2b649d-b861-4c69-9dad-a032b9f92ce7",
   "metadata": {},
   "outputs": [
    {
     "name": "stdout",
     "output_type": "stream",
     "text": [
      "4\n",
      "3\n"
     ]
    }
   ],
   "source": [
    "# -1 to read last value\n",
    "arr = [1, 2, 3, 4]\n",
    "print(arr[-1])\n",
    "print(arr[-2])"
   ]
  },
  {
   "cell_type": "code",
   "execution_count": 26,
   "id": "dd999272-cada-4c74-a3af-f2e4e898fbdf",
   "metadata": {},
   "outputs": [
    {
     "name": "stdout",
     "output_type": "stream",
     "text": [
      "[2, 3]\n",
      "[1, 2, 3, 4]\n"
     ]
    }
   ],
   "source": [
    "# Sub lists\n",
    "arr = [1, 2, 3, 4, 5]\n",
    "print(arr[1:3])\n",
    "\n",
    "# Last index is non-inclusive (Doesn't include) This works by index 0 - n\n",
    "print(arr[0:4])"
   ]
  },
  {
   "cell_type": "code",
   "execution_count": 28,
   "id": "0022d62e-dd94-4ec2-b444-1e65ec703726",
   "metadata": {},
   "outputs": [
    {
     "name": "stdout",
     "output_type": "stream",
     "text": [
      "1 2 3\n"
     ]
    }
   ],
   "source": [
    "# Unpacking\n",
    "a, b, c = [1,2,3]\n",
    "print(a,b,c)\n",
    "\n",
    "#But be careful left and right needs to match"
   ]
  },
  {
   "cell_type": "code",
   "execution_count": 29,
   "id": "33f0cc39-9324-4e06-b023-fcf21d9bed22",
   "metadata": {},
   "outputs": [
    {
     "name": "stdout",
     "output_type": "stream",
     "text": [
      "1\n",
      "2\n",
      "3\n",
      "4\n",
      "1\n",
      "2\n",
      "3\n",
      "4\n",
      "0 1\n",
      "1 2\n",
      "2 3\n",
      "3 4\n"
     ]
    }
   ],
   "source": [
    "# Loop using index\n",
    "nums = [1,2,3,4]\n",
    "\n",
    "for i in range(len(nums)): # Goes from index 0 to the last index which in this case would be 0 - 3 which is 4 values\n",
    "    print(nums[i])\n",
    "    \n",
    "for n in nums: # Does do it by index, instead this simply iterates through all of the current given values\n",
    "    print(n)\n",
    "\n",
    "for i, n in enumerate(nums): # Iterates through index and value and we have access to both.\n",
    "    print(i, n)"
   ]
  },
  {
   "cell_type": "code",
   "execution_count": 30,
   "id": "8efd427e-254f-4f3e-9f23-1477a2892a05",
   "metadata": {},
   "outputs": [
    {
     "name": "stdout",
     "output_type": "stream",
     "text": [
      "1 2\n",
      "3 4\n",
      "5 6\n"
     ]
    }
   ],
   "source": [
    "# Loop through multiple arrays at the same time with unpacking\n",
    "\n",
    "nums1 = [1,3,5]\n",
    "nums2 = [2,4,6]\n",
    "\n",
    "for n1, n2 in zip(nums1, nums2): # Unpacking the pairs of values\n",
    "    print(n1,n2)"
   ]
  },
  {
   "cell_type": "code",
   "execution_count": 32,
   "id": "ce64274e-1325-4661-a6fe-e924fe1fc883",
   "metadata": {},
   "outputs": [
    {
     "name": "stdout",
     "output_type": "stream",
     "text": [
      "[4, 3, 2, 1]\n"
     ]
    }
   ],
   "source": [
    "# Reversing an array\n",
    "nums = [1,2,3,4]\n",
    "nums.reverse()\n",
    "print(nums)"
   ]
  },
  {
   "cell_type": "code",
   "execution_count": 35,
   "id": "eeffd81a-d8dc-41ba-a02f-2d8c99e6c33d",
   "metadata": {},
   "outputs": [
    {
     "name": "stdout",
     "output_type": "stream",
     "text": [
      "[1, 2, 3, 5, 5, 5, 7, 9]\n",
      "[9, 7, 5, 5, 5, 3, 2, 1]\n"
     ]
    }
   ],
   "source": [
    "# Sorting an array\n",
    "nums = [5,9,5,3,7,5,2,1]\n",
    "nums.sort() # Ascending order by default\n",
    "print(nums)\n",
    "\n",
    "nums.sort(reverse=True) # Sort in descending order\n",
    "print(nums)"
   ]
  },
  {
   "cell_type": "code",
   "execution_count": 41,
   "id": "d313cca5-2c73-4921-8bbe-0db7a0bfc59f",
   "metadata": {},
   "outputs": [
    {
     "name": "stdout",
     "output_type": "stream",
     "text": [
      "['alice', 'bob', 'doe', 'jane']\n",
      "['bob', 'doe', 'jane', 'alice']\n",
      "[1, 5, 7, 0, 0]\n"
     ]
    }
   ],
   "source": [
    "# Sorting a list of strings\n",
    "arr = [\"bob\", \"alice\", \"jane\", \"doe\"]\n",
    "arr.sort() # While sorting strings or characters by default they're sorted in alphabetic order\n",
    "print(arr)\n",
    "\n",
    "# Custom sort (By length of string)\n",
    "arr.sort(key=lambda x: len(x)) # key=lambda is a function without a name\n",
    "print(arr)\n",
    "\n",
    "# Custom sort (Sort the zeroes)\n",
    "nums = [0, 0, 1 , 5, 7]\n",
    "nums.sort(key=lambda x: x == 0)\n",
    "print(nums)\n"
   ]
  },
  {
   "cell_type": "code",
   "execution_count": 43,
   "id": "344a6cab-a259-4225-9683-cf3f7fc59fb8",
   "metadata": {},
   "outputs": [
    {
     "name": "stdout",
     "output_type": "stream",
     "text": [
      "[0, 1, 2, 3, 4]\n",
      "[0, 2, 4, 6, 8]\n"
     ]
    }
   ],
   "source": [
    "# List comprehension\n",
    "arr = [i for i in range(5)] # 0 - 4\n",
    "print(arr)\n",
    "arr = [i+i for i in range(5)]\n",
    "print(arr)"
   ]
  },
  {
   "cell_type": "code",
   "execution_count": 48,
   "id": "34fae42a-dbf3-4542-84dd-b4bed89a5c81",
   "metadata": {},
   "outputs": [
    {
     "name": "stdout",
     "output_type": "stream",
     "text": [
      "[[0, 0, 0, 0], [0, 0, 0, 0], [0, 0, 0, 0], [0, 0, 0, 0]]\n",
      "[[0, 0, 0, 0], [0, 0, 0, 0], [0, 0, 0, 0], [0, 0, 0, 0]]\n"
     ]
    }
   ],
   "source": [
    "# 2-D list\n",
    "\n",
    "arr = [[0] * 4 for i in range(4)]\n",
    "print(arr)\n",
    "\n",
    "arr = [[0] * 4] * 4 # Don't do this it won't properly work for making a 2-D list the lists aren't unique they're just duplicates.\n",
    "print(arr)"
   ]
  },
  {
   "cell_type": "code",
   "execution_count": 50,
   "id": "9525f0c8-0d19-4a1b-b518-e11d9a95939f",
   "metadata": {},
   "outputs": [
    {
     "name": "stdout",
     "output_type": "stream",
     "text": [
      "ab\n",
      "abcdef\n"
     ]
    }
   ],
   "source": [
    "# strings are similar to arrays\n",
    "\n",
    "s = \"abc\"\n",
    "print(s[0:2])\n",
    "\n",
    "# Strings and characters are immutable\n",
    "#s[0] = \"A\" Doesn't work we can only update which is add on to the string and create a new string\n",
    "\n",
    "s += \"def\"\n",
    "print(s)\n"
   ]
  },
  {
   "cell_type": "code",
   "execution_count": 51,
   "id": "8424ea86-3bc3-4957-839f-b019a9136661",
   "metadata": {},
   "outputs": [
    {
     "name": "stdout",
     "output_type": "stream",
     "text": [
      "246\n",
      "123123\n"
     ]
    }
   ],
   "source": [
    "# Strings can be converted into integers\n",
    "\n",
    "print(int(\"123\") + int(\"123\"))\n",
    "\n",
    "print(str(123) + str(123))"
   ]
  },
  {
   "cell_type": "code",
   "execution_count": 52,
   "id": "ce284bcd-6c0b-4c36-be85-bb757e2b68a3",
   "metadata": {},
   "outputs": [
    {
     "name": "stdout",
     "output_type": "stream",
     "text": [
      "97\n",
      "65\n"
     ]
    }
   ],
   "source": [
    "# Get ASCII value\n",
    "print(ord(\"a\"))\n",
    "print(ord(\"A\"))\n"
   ]
  },
  {
   "cell_type": "code",
   "execution_count": 54,
   "id": "c3940aae-676d-46a5-8b04-2c6462e2bdf8",
   "metadata": {},
   "outputs": [
    {
     "name": "stdout",
     "output_type": "stream",
     "text": [
      "ab cd ef\n"
     ]
    }
   ],
   "source": [
    "# Combine a list of strings\n",
    "\n",
    "strings = [\"ab\", \"cd\", \"ef\"]\n",
    "print(\" \".join(strings)) # Delimitor is organization for the printing"
   ]
  },
  {
   "cell_type": "code",
   "execution_count": 57,
   "id": "18d75420-6ea3-460d-8738-fe147072a894",
   "metadata": {},
   "outputs": [
    {
     "name": "stdout",
     "output_type": "stream",
     "text": [
      "deque([1, 2])\n",
      "deque([2])\n",
      "deque([1, 2])\n",
      "deque([1])\n"
     ]
    }
   ],
   "source": [
    "# Queues = double ended, in python a queue acts like a leveled up stack where we can also pop from the left of the stack using constant time.\n",
    "from collections import deque\n",
    "\n",
    "queue = deque()\n",
    "queue.append(1)\n",
    "queue.append(2)\n",
    "print(queue)\n",
    "\n",
    "queue.popleft()\n",
    "print(queue)\n",
    "\n",
    "queue.appendleft(1)\n",
    "print(queue)\n",
    "\n",
    "queue.pop()\n",
    "print(queue)"
   ]
  }
 ],
 "metadata": {
  "kernelspec": {
   "display_name": "Python 3 (ipykernel)",
   "language": "python",
   "name": "python3"
  },
  "language_info": {
   "codemirror_mode": {
    "name": "ipython",
    "version": 3
   },
   "file_extension": ".py",
   "mimetype": "text/x-python",
   "name": "python",
   "nbconvert_exporter": "python",
   "pygments_lexer": "ipython3",
   "version": "3.9.12"
  }
 },
 "nbformat": 4,
 "nbformat_minor": 5
}
