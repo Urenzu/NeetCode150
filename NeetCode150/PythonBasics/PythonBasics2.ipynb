{
 "cells": [
  {
   "cell_type": "code",
   "execution_count": 1,
   "id": "6750d932-8622-4bc1-b37b-ae895b2e868a",
   "metadata": {},
   "outputs": [
    {
     "name": "stdout",
     "output_type": "stream",
     "text": [
      "{1, 2}\n",
      "2\n",
      "True\n",
      "True\n",
      "False\n",
      "False\n"
     ]
    }
   ],
   "source": [
    "# Hashset search in constant time\n",
    "\n",
    "my_set = set()\n",
    "\n",
    "my_set.add(1)\n",
    "my_set.add(2)\n",
    "print(my_set)\n",
    "print(len(my_set))\n",
    "\n",
    "print(1 in my_set)\n",
    "print(2 in my_set)\n",
    "print(3 in my_set)\n",
    "\n",
    "my_set.remove(2)\n",
    "print(2 in my_set)"
   ]
  },
  {
   "cell_type": "code",
   "execution_count": 2,
   "id": "da161820-62a0-42d0-ada6-b918853ff665",
   "metadata": {},
   "outputs": [
    {
     "name": "stdout",
     "output_type": "stream",
     "text": [
      "{1, 2, 3}\n",
      "{0, 1, 2, 3, 4}\n"
     ]
    }
   ],
   "source": [
    "# Initialize hashset with values\n",
    "print(set([1,2,3]))\n",
    "\n",
    "# Set comprehension\n",
    "mySet = {i for i in range(5)}\n",
    "print(mySet)"
   ]
  },
  {
   "cell_type": "code",
   "execution_count": 3,
   "id": "7cb9bf9d-7922-4481-a628-e318994cb050",
   "metadata": {},
   "outputs": [
    {
     "name": "stdout",
     "output_type": "stream",
     "text": [
      "{'alice': 88, 'bob': 77}\n",
      "2\n",
      "80\n",
      "True\n",
      "False\n",
      "{'alice': 90, 'bob': 70}\n"
     ]
    }
   ],
   "source": [
    "# Hashmap (Dictionary)\n",
    "myMap = {}\n",
    "myMap[\"alice\"] = 88\n",
    "myMap[\"bob\"] = 77\n",
    "print(myMap)\n",
    "print(len(myMap))\n",
    "\n",
    "myMap[\"alice\"] = 80\n",
    "print(myMap[\"alice\"])\n",
    "\n",
    "print(\"alice\" in myMap) # Constant time, returns true\n",
    "\n",
    "myMap.pop(\"alice\")\n",
    "print(\"alice\" in myMap)\n",
    "\n",
    "myMap = {\"alice\" : 90, \"bob\" : 70} # key : value\n",
    "print(myMap)"
   ]
  },
  {
   "cell_type": "code",
   "execution_count": 5,
   "id": "896cea50-cf20-45b4-88ce-4e415af0fc49",
   "metadata": {},
   "outputs": [
    {
     "name": "stdout",
     "output_type": "stream",
     "text": [
      "{0: 0, 1: 2, 2: 4}\n"
     ]
    }
   ],
   "source": [
    "# Dict comprehension\n",
    "myMap = {i: 2*i for i in range(3)} # i = key mapped to a value, in this case our i multiplied by 2. Useful for map problems\n",
    "print(myMap) "
   ]
  },
  {
   "cell_type": "code",
   "execution_count": 7,
   "id": "2f1dec2b-8f3f-42ab-96cf-54fa7bb6ff8a",
   "metadata": {},
   "outputs": [
    {
     "name": "stdout",
     "output_type": "stream",
     "text": [
      "alice 90\n",
      "bob 70\n",
      "90\n",
      "70\n",
      "alice 90\n",
      "bob 70\n"
     ]
    }
   ],
   "source": [
    "# Looping through maps\n",
    "myMap = {\"alice\" : 90, \"bob\" : 70} # key : value\n",
    "for key in myMap: # iterate through keys in hashmap\n",
    "    print(key, myMap[key])\n",
    "\n",
    "for val in myMap.values(): # iterate through values in hashmap\n",
    "    print(val)\n",
    "\n",
    "for key, val in myMap.items(): # Alternate way to iterate through keys in hashmap, but also values\n",
    "    print(key, val)"
   ]
  },
  {
   "cell_type": "code",
   "execution_count": 8,
   "id": "d4fbf483-4d15-45b8-8154-ecbbd218f4b5",
   "metadata": {},
   "outputs": [
    {
     "name": "stdout",
     "output_type": "stream",
     "text": [
      "(1, 2, 3)\n",
      "1\n",
      "3\n"
     ]
    }
   ],
   "source": [
    "# Tuples are like arrays but immutable\n",
    "tup = (1,2,3)\n",
    "print(tup)\n",
    "print(tup[0])\n",
    "print(tup[-1])\n",
    "# Can't modify\n",
    "\n",
    "# Doesn't work tup[0] = 0 "
   ]
  },
  {
   "cell_type": "code",
   "execution_count": 9,
   "id": "f7eddd5c-7347-411f-840e-3061adf61603",
   "metadata": {},
   "outputs": [
    {
     "name": "stdout",
     "output_type": "stream",
     "text": [
      "3\n",
      "True\n"
     ]
    }
   ],
   "source": [
    "# Normally you use tuples as keys for a hashmap\n",
    "\n",
    "myMap = {(1,2): 3}\n",
    "print(myMap[(1,2)])\n",
    "\n",
    "mySet = set()\n",
    "mySet.add((1,2))\n",
    "print((1,2) in mySet)\n",
    "\n",
    "# Lists can't be keys, myMap[[3,4]] = 5 won't work\n"
   ]
  },
  {
   "cell_type": "code",
   "execution_count": 15,
   "id": "e1dc7e38-c66d-4f1c-ae37-18b29014e8f1",
   "metadata": {},
   "outputs": [
    {
     "name": "stdout",
     "output_type": "stream",
     "text": [
      "minHeap:\n",
      "2\n",
      "2\n",
      "3\n",
      "4\n",
      "maxHeap:\n",
      "4\n",
      "4\n",
      "3\n",
      "2\n"
     ]
    }
   ],
   "source": [
    "# Heaps\n",
    "import heapq\n",
    "\n",
    "# Under the hood they're arrays\n",
    "print(\"minHeap:\")\n",
    "minHeap = []\n",
    "heapq.heappush(minHeap,3)\n",
    "heapq.heappush(minHeap,2)\n",
    "heapq.heappush(minHeap,4)\n",
    "\n",
    "# Minimum value is always at index 0\n",
    "print(minHeap[0])\n",
    "\n",
    "while len(minHeap):\n",
    "    print(heapq.heappop(minHeap))\n",
    "\n",
    "# For a maxheap add negative value then multiply by -1 when pushing and popping to negate the negative.\n",
    "print(\"maxHeap:\")\n",
    "maxHeap = []\n",
    "heapq.heappush(maxHeap,-3)\n",
    "heapq.heappush(maxHeap,-2)\n",
    "heapq.heappush(maxHeap,-4)\n",
    "\n",
    "# Max is always at index 0\n",
    "print(-1 * maxHeap[0])\n",
    "\n",
    "while len(maxHeap):\n",
    "    print(-1 * heapq.heappop(maxHeap))"
   ]
  },
  {
   "cell_type": "code",
   "execution_count": 16,
   "id": "2e528a4d-b4f8-415b-be07-8d88e89d94e7",
   "metadata": {},
   "outputs": [
    {
     "name": "stdout",
     "output_type": "stream",
     "text": [
      "1\n",
      "2\n",
      "4\n",
      "5\n",
      "8\n"
     ]
    }
   ],
   "source": [
    "# If you already have the values you want to build the heap from...\n",
    "\n",
    "import heapq\n",
    "\n",
    "arr = [2,1,8,4,5]\n",
    "heapq.heapify(arr)\n",
    "while arr: # Default heap is min heap\n",
    "    print(heapq.heappop(arr))\n"
   ]
  },
  {
   "cell_type": "code",
   "execution_count": 18,
   "id": "442b45c3-c73d-4c39-96da-29a7327dbec9",
   "metadata": {},
   "outputs": [
    {
     "name": "stdout",
     "output_type": "stream",
     "text": [
      "12\n"
     ]
    }
   ],
   "source": [
    "# Functions\n",
    "\n",
    "def myFunc(n, m):\n",
    "    return n * m\n",
    "\n",
    "print(myFunc(3,4))"
   ]
  },
  {
   "cell_type": "code",
   "execution_count": 19,
   "id": "73c57f10-4b94-42bf-8a18-f300fcd16df5",
   "metadata": {},
   "outputs": [
    {
     "name": "stdout",
     "output_type": "stream",
     "text": [
      "abc\n"
     ]
    }
   ],
   "source": [
    "# Nested functions have access to outer variables\n",
    "\n",
    "def outer(a,b):\n",
    "    c = \"c\"\n",
    "    \n",
    "    def inner():\n",
    "        return a + b + c\n",
    "    return inner()\n",
    "\n",
    "print(outer(\"a\", \"b\"))"
   ]
  },
  {
   "cell_type": "code",
   "execution_count": 2,
   "id": "bcab83cc-85e1-47f6-9d96-5104af5734fd",
   "metadata": {},
   "outputs": [
    {
     "name": "stdout",
     "output_type": "stream",
     "text": [
      "[2, 4] 6\n"
     ]
    }
   ],
   "source": [
    "# Can modify objects but can't reassign unless using nonlocal keyword\n",
    "\n",
    "def double(arr, val):\n",
    "    def helper():\n",
    "        # Modifying array works\n",
    "        for i, n in enumerate(arr):\n",
    "            arr[i] *= 2 # Within this new function we modify the values within the arr but our outer function doesn't have access to that.\n",
    "            \n",
    "        nonlocal val\n",
    "        val *= 2\n",
    "            \n",
    "    helper()\n",
    "    print(arr, val) # multiplies\n",
    "\n",
    "nums = [1,2]\n",
    "val = 3\n",
    "double(nums, val)      "
   ]
  },
  {
   "cell_type": "code",
   "execution_count": 3,
   "id": "01573ed4-d85a-40ff-b9a0-25b1cde2a301",
   "metadata": {},
   "outputs": [],
   "source": [
    "# Classes\n",
    "\n",
    "class MyClass:\n",
    "    # Constructor\n",
    "    def __init__(self, nums):\n",
    "        # Create member variables\n",
    "        self.nums = nums\n",
    "        self.size = len(nums)\n",
    "    \n",
    "    # Self key word required as parameter\n",
    "    \n",
    "    def getLength(self):\n",
    "        return self.size\n",
    "    \n",
    "    def getDoubleLength(self):\n",
    "        return 2 * self.getLength()"
   ]
  },
  {
   "cell_type": "code",
   "execution_count": null,
   "id": "4d521309-bb59-4bbc-81ea-bc35aa3dd960",
   "metadata": {},
   "outputs": [],
   "source": []
  }
 ],
 "metadata": {
  "kernelspec": {
   "display_name": "Python 3 (ipykernel)",
   "language": "python",
   "name": "python3"
  },
  "language_info": {
   "codemirror_mode": {
    "name": "ipython",
    "version": 3
   },
   "file_extension": ".py",
   "mimetype": "text/x-python",
   "name": "python",
   "nbconvert_exporter": "python",
   "pygments_lexer": "ipython3",
   "version": "3.9.12"
  }
 },
 "nbformat": 4,
 "nbformat_minor": 5
}
