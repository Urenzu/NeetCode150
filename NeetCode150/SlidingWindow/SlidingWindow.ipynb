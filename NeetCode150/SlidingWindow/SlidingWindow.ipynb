{
 "cells": [
  {
   "cell_type": "markdown",
   "id": "53f79084-82ea-46d7-bc20-656d683ce99e",
   "metadata": {},
   "source": [
    "# Best Time to Buy And Sell Stock"
   ]
  },
  {
   "cell_type": "code",
   "execution_count": null,
   "id": "78583ab5-2272-4dd0-a45a-55f4b3c1d8af",
   "metadata": {},
   "outputs": [],
   "source": [
    "class Solution:\n",
    "    def maxProfit(self, prices: List[int]) -> int:\n",
    "        l, r = 1, 1 # Left=buy right=sell\n",
    "        maxp = 0\n",
    "\n",
    "        while r < len(prices):\n",
    "            #Profitable?\n",
    "            if prices[l] < prices[r]: # While price left is less than price right that means we have a margin of profit so subtract the two values and then get the current max profit.\n",
    "                profit = prices[r] - prices[l]\n",
    "                maxp = max(maxp, profit)\n",
    "            else: # Else there is no margin of profit, the right value is less than the left value thus exchange the smaller right value and give it to the left value while incrementing the right. \n",
    "                l = r\n",
    "            r += 1\n",
    "        return maxp"
   ]
  },
  {
   "cell_type": "markdown",
   "id": "46a74cd2-158f-4ee4-912d-8034f88f03d5",
   "metadata": {},
   "source": [
    "# Longest Substring Without Repeating Characters"
   ]
  },
  {
   "cell_type": "code",
   "execution_count": null,
   "id": "a7d49727-645a-43cc-96ab-4948de9ed76a",
   "metadata": {},
   "outputs": [],
   "source": [
    "class Solution:\n",
    "    def lengthOfLongestSubstring(self, s: str) -> int:\n",
    "        # Sets only keep one of each character, we use this to check duplicate values.\n",
    "        cset = set()\n",
    "        l = 0\n",
    "        res = 0\n",
    "\n",
    "        for r in range(len(s)):\n",
    "            while s[r] in cset: # If value at r is in our set remove the character at the start of our extending substring. This means we found a duplicate value.\n",
    "                cset.remove(s[l])\n",
    "                l += 1 # Iterate left upon duplicate\n",
    "            cset.add(s[r]) # Add new value to set\n",
    "            res = max(res, r - l + 1) # Change result by finding the length of the substring.\n",
    "        return res"
   ]
  },
  {
   "cell_type": "markdown",
   "id": "4057c8aa-95f1-4e67-94ba-31a737129140",
   "metadata": {},
   "source": [
    "#  Longest Repeating Character Replacement"
   ]
  },
  {
   "cell_type": "code",
   "execution_count": null,
   "id": "5724a62b-806a-490a-8b24-c941389f82a8",
   "metadata": {},
   "outputs": [],
   "source": [
    "class Solution:\n",
    "    def characterReplacement(self, s: str, k: int) -> int\n",
    "        count = {} # Hashmap to count the occurences of each character\n",
    "        res = 0\n",
    "\n",
    "        l = 0\n",
    "        # Adding a 1 to the count of the character r in our string to the hashmap. If no character in hasmap then have the default value be 0.\n",
    "        for r in range(len(s)):\n",
    "            count[s[r]] = 1 + count.get(s[r], 0)\n",
    "            # While length of window subtracted by the max count of the values within our count hashmap is greater than k.\n",
    "            while(r - l + 1) - max(count.values()) > k:\n",
    "                count[s[l]] -= 1 # Decrease the count of the value at our left pointer. Then increment it to the next index.\n",
    "                l += 1\n",
    "\n",
    "            res = max(res, r - l + 1)\n",
    "        return res\n",
    "\n",
    "class Solution:\n",
    "    def characterReplacement(self, s: str, k: int) -> int:\n",
    "        count = {} # Hashmap to count the occurences of each character\n",
    "        res = 0\n",
    "\n",
    "        l = 0\n",
    "        # Adding a 1 to the count of the character r in our string to the hashmap. If no character in hasmap then have the default value be 0.\n",
    "        maxf = 0 # Keeping track of max frequency\n",
    "        for r in range(len(s)):\n",
    "            count[s[r]] = 1 + count.get(s[r], 0)\n",
    "            maxf = max(maxf, count[s[r]]) # Get the max frequency comparing max frequency against the frequency of the current value.\n",
    "            # While length of window subtracted by the max count of the values within our count hashmap is greater than k.\n",
    "            while(r - l + 1) - maxf > k: # Max frequency works because it will keep the best possible outcome and now we don't have to constantly iterate through our hashmap searching for the max count.\n",
    "                count[s[l]] -= 1 # Decrease the count of the value at our left pointer. Then increment it to the next index.\n",
    "                l += 1\n",
    "\n",
    "            res = max(res, r - l + 1)\n",
    "        return res\n",
    "\n"
   ]
  },
  {
   "cell_type": "markdown",
   "id": "d05f90d8-8f39-4906-af1c-94036ce23e70",
   "metadata": {},
   "source": [
    "# Permutation In String"
   ]
  },
  {
   "cell_type": "code",
   "execution_count": null,
   "id": "e3e32e2f-a5d0-49d6-b693-dc5cc0ba002e",
   "metadata": {},
   "outputs": [],
   "source": [
    "class Solution:\n",
    "    def checkInclusion(self, s1: str, s2: str) -> bool:\n",
    "        if len(s1) > len(s2): # Impossible permutation if s1 is bigger than s2\n",
    "            return False\n",
    "\n",
    "        s1Count, s2Count = [0] * 26, [0] * 26 # Set them to zero\n",
    "        for i in range(len(s1)): # Getting character count within each string.\n",
    "            s1Count[ord(s1[i]) - ord(\"a\")] += 1\n",
    "            s2Count[ord(s2[i]) - ord(\"a\")] += 1\n",
    "\n",
    "        matches = 0\n",
    "        for i in range(26): # Incrementing through alphabetical array checking if there's a matching character within string 1 and string 2.\n",
    "            matches += 1 if s1Count[i] == s2Count[i] else 0\n",
    "\n",
    "        l = 0\n",
    "        for r in range(len(s1), len(s2)): # Incrementing through string 1 and 2. If matches are 26 then return true.\n",
    "            if matches == 26:\n",
    "                return True\n",
    "\n",
    "            index = ord(s2[r]) - ord(\"a\") \n",
    "            s2Count[index] += 1\n",
    "            if s1Count[index] == s2Count[index]: # While matches are equal increment matches otherwise go to next s1count index and decrement matches.\n",
    "                matches += 1\n",
    "            elif s1Count[index] + 1 == s2Count[index]:\n",
    "                matches -= 1\n",
    "            # Difference is start location\n",
    "            index = ord(s2[l]) - ord(\"a\")\n",
    "            s2Count[index] -= 1\n",
    "            if s1Count[index] == s2Count[index]:  # While matches are equal increment matches otherwise go to next s1count index and decrement matches.\n",
    "                matches += 1\n",
    "            elif s1Count[index] - 1 == s2Count[index]:\n",
    "                matches -= 1\n",
    "            l += 1\n",
    "        return matches == 26"
   ]
  },
  {
   "cell_type": "markdown",
   "id": "4df1166a-c578-48af-9263-8a3c1788cde9",
   "metadata": {},
   "source": [
    "# Minimum Window Substring"
   ]
  },
  {
   "cell_type": "code",
   "execution_count": null,
   "id": "e7c865d0-0121-44df-b57c-11af994ff8ad",
   "metadata": {},
   "outputs": [],
   "source": [
    "class Solution:\n",
    "    def minWindow(self, s: str, t: str) -> str:\n",
    "        if t == \"\": return \"\" # If t string is empty return an empty string.\n",
    "\n",
    "        countT, window = {}, {}\n",
    "\n",
    "        for c in t: # Getting the desired count values within our t string which we need to find in string s. We can iterate the counts by using .get() to get the value and then we + 1 for each count. Put else default is 0 basically a needed edge case for the function.\n",
    "            countT[c] = 1 + countT.get(c, 0)\n",
    "        \n",
    "        have, need = 0, len(countT) # len(countT) gives us the length of unique characters within string t.\n",
    "        res, resLen = [-1, -1], float(\"infinity\") # Defaults for the result array and result length.\n",
    "        l = 0\n",
    "        for r in range(len(s)): # Iterate right pointer through length of string s.\n",
    "            c = s[r] # Collecting counts\n",
    "            window[c] = 1 + window.get(c, 0) # Incrementing counts within our window by \n",
    "\n",
    "            if c in countT and window[c] == countT[c]: # If c is in countT hashmap and it is the correct value within our window[c] increment have.\n",
    "                have += 1\n",
    "            \n",
    "            while have == need:\n",
    "                # Update our result\n",
    "                if(r - l + 1) < resLen:\n",
    "                    res = [l, r] # Update the result left and right window bounds\n",
    "                    resLen = (r - l + 1) # Update the size\n",
    "                # Pop from the left of our window to minimize.\n",
    "                window[s[l]] -= 1\n",
    "                if s[l] in countT and window[s[l]] < countT[s[l]]: # If the value we got rid of was in countT and if that value within the window is now less than what we need within our countT values than decrement have and then iterate our left pointer outside the loop.\n",
    "                    have -= 1\n",
    "                l += 1\n",
    "        l, r = res\n",
    "        return s[l:r+1] if resLen != float(\"infinity\") else \"\" # Return values from left to right pointer + 1, it's l -> r + 1 because python will go through the characters and stop right before r so we have to add 1. This happens if our result length is not infinity, if we don't have a proper result we'll return a blank string.\n"
   ]
  },
  {
   "cell_type": "markdown",
   "id": "5d36617d-85ee-4679-a93a-627b286223f1",
   "metadata": {},
   "source": [
    "# Sliding Window Maximum"
   ]
  },
  {
   "cell_type": "code",
   "execution_count": null,
   "id": "aa0bc71f-418a-4ccc-a3bd-d11e784bfc64",
   "metadata": {},
   "outputs": [],
   "source": [
    "class Solution:\n",
    "    def maxSlidingWindow(self, nums: List[int], k: int) -> List[int]:\n",
    "        # Monotonically decreasing queue, we want to add and remove elements from the beginning in O(1) time.\n",
    "        output = []\n",
    "        q = collections.deque() # This creates the deque. Contains indeces\n",
    "        l = r = 0\n",
    "\n",
    "        while r < len(nums):\n",
    "            while q and nums[q[-1]] < nums[r]: # While queue is not empty and smaller values are within our queue pop from the queue. We use -1 to connecty to the end or top of our queue. We're utilizing only the top elements so we need to connect to the top. While that number is less than the value in r pop() from the queue. We have to pop smaller values before we add newer values.\n",
    "                q.pop()\n",
    "                \n",
    "            q.append(r)\n",
    "\n",
    "            # Remove left value from window while out of bonds.\n",
    "            if l > q[0]: # If l value is greater than left most or bottom value of queue\n",
    "                q.popleft() # Pop from the beginning.\n",
    "\n",
    "            # Edge case\n",
    "            if(r + 1) >= k:\n",
    "                output.append(nums[q[0]]) # Append num value at position q[0] to our output. This value is our current greatest number within our window size k.\n",
    "                l += 1 # While we hit max window size we have to push up the left of our array.\n",
    "                \n",
    "            r += 1 # At the end of our loop iterate r to extend throughout the entire.\n",
    "        \n",
    "        return output\n",
    "\n"
   ]
  }
 ],
 "metadata": {
  "kernelspec": {
   "display_name": "Python 3 (ipykernel)",
   "language": "python",
   "name": "python3"
  },
  "language_info": {
   "codemirror_mode": {
    "name": "ipython",
    "version": 3
   },
   "file_extension": ".py",
   "mimetype": "text/x-python",
   "name": "python",
   "nbconvert_exporter": "python",
   "pygments_lexer": "ipython3",
   "version": "3.9.12"
  }
 },
 "nbformat": 4,
 "nbformat_minor": 5
}
