{
 "cells": [
  {
   "cell_type": "markdown",
   "id": "bacf7bb4-2e86-4587-aa18-e6f94e21d158",
   "metadata": {},
   "source": [
    "# Valid Parentheses"
   ]
  },
  {
   "cell_type": "code",
   "execution_count": null,
   "id": "1271a948-702f-43a5-910a-683e209fc043",
   "metadata": {},
   "outputs": [],
   "source": [
    "class Solution:\n",
    "    def isValid(self, s: str) -> bool:\n",
    "        stack = [] # List\n",
    "        closeToOpen = { \")\" : \"(\", \"]\" : \"[\", \"}\" : \"{\"} # Dictionary with key values.\n",
    "\n",
    "        for b in s: \n",
    "            if b in closeToOpen:\n",
    "                if stack and stack[-1] == closeToOpen[b]: # If we have a closing bracket and then a opening bracket which belongs to the closing bracket at the top, then we pop from the stack.\n",
    "                    stack.pop()\n",
    "                else: # If the stack is empty or the top element does not match the expected opening parenthesis, the function returns False:\n",
    "                    return False\n",
    "            else: # If b is not a closing parenthesis, the function assumes it is an opening parenthesis and pushes it onto the stack:\n",
    "                stack.append(b) \n",
    "        return not stack  # Not stack == true while empty, and false while full.\n"
   ]
  },
  {
   "cell_type": "markdown",
   "id": "67db609c-1d0e-474f-a1c2-817de0eb7429",
   "metadata": {},
   "source": [
    "# Min Stack"
   ]
  },
  {
   "cell_type": "code",
   "execution_count": null,
   "id": "db0cb246-6b5d-4177-97b8-62c25653491f",
   "metadata": {},
   "outputs": [],
   "source": [
    "class MinStack:\n",
    "\n",
    "    def __init__(self):\n",
    "        self.stack = [] # Class arrays\n",
    "        self.minstack = []\n",
    "        \n",
    "\n",
    "    def push(self, val: int) -> None: # Pushing an element to the stack.\n",
    "        self.stack.append(val)\n",
    "        # Comparing the current value getting pushed to the stack to the value at the top of the stack. We're seeing which of these values is the minimum then we're appending that to the minstack.\n",
    "        val = min(val, self.minstack[-1] if self.minstack else val) # If minstack is empty just choose val as the minimum.\n",
    "        self.minstack.append(val)\n",
    "\n",
    "    def pop(self) -> None: # Popping elements from both the regular and minimum stack.\n",
    "        self.stack.pop()\n",
    "        self.minstack.pop()\n",
    "\n",
    "    def top(self) -> int: # returning the top element of the stack.\n",
    "        return self.stack[-1]\n",
    "\n",
    "    def getMin(self) -> int: # Returning the top element from the minstack.\n",
    "        return self.minstack[-1]\n",
    "\n",
    "\n",
    "# Your MinStack object will be instantiated and called as such:\n",
    "# obj = MinStack()\n",
    "# obj.push(val)\n",
    "# obj.pop()\n",
    "# param_3 = obj.top()\n",
    "# param_4 = obj.getMin()"
   ]
  },
  {
   "cell_type": "markdown",
   "id": "a04d6c99-6536-4b1c-ade9-da39458f5561",
   "metadata": {},
   "source": [
    "# Evaluate Reverse Polish Notation"
   ]
  },
  {
   "cell_type": "code",
   "execution_count": null,
   "id": "6f44bf86-6ce0-48d8-ad44-aa2e215a50ef",
   "metadata": {},
   "outputs": [],
   "source": [
    "class Solution:\n",
    "    def evalRPN(self, tokens: List[str]) -> int:\n",
    "        stack = []\n",
    "        for c in tokens:\n",
    "            if c == \"+\":\n",
    "                stack.append(stack.pop() + stack.pop()) # Adding two elements popped from the stack.\n",
    "            elif c == \"-\":  # subtracting two elements popped from the stack. To make the correct order we have to assign our first popped element to a variable and then subtract the next popped element by that variable.\n",
    "                val = stack.pop()\n",
    "                stack.append(stack.pop() - val)\n",
    "                \"\"\"\n",
    "                a, b = stack.pop(), stack.pop()\n",
    "                stack.append(b - a)\n",
    "                \"\"\"\n",
    "            elif c == \"*\":\n",
    "                stack.append(stack.pop() * stack.pop())\n",
    "            elif c == \"/\":\n",
    "                val = stack.pop()\n",
    "                stack.append(int(stack.pop() / val)) # This is similar to the subtraction situation however this time we have to wrap our calculation in int() in order to get rid of decimals and round down to 0.\n",
    "                \"\"\"\n",
    "                a, b = stack.pop(), stack.pop()\n",
    "                stack.append(int(b / a))\n",
    "                \"\"\"\n",
    "            else:\n",
    "                stack.append(int(c)) # For all numbers simply add to the stack.\n",
    "        return stack[0] # Return the first and only variable within the stack."
   ]
  },
  {
   "cell_type": "markdown",
   "id": "ec5eb3a7-62b5-47c5-bc26-07126b2ef564",
   "metadata": {},
   "source": [
    "# Generate Parentheses"
   ]
  },
  {
   "cell_type": "code",
   "execution_count": null,
   "id": "9f8aba69-af2e-4ca2-8aee-e931a405f859",
   "metadata": {},
   "outputs": [],
   "source": [
    "class Solution:\n",
    "    def generateParenthesis(self, n: int) -> List[str]:\n",
    "        # Only add open paranthesis if open < n\n",
    "        # only add a closing paranthesis if closed < open\n",
    "        # valid IF open == closes == n\n",
    "        stack = []\n",
    "        res = [] \n",
    "\n",
    "        def backtrack(openN, closedN):\n",
    "            if openN == closedN == n: # If open parenthesis, closed parenthesis, and n are equal, then add that combination to the result stack. This is the end result of a combination.\n",
    "                res.append(\"\".join(stack)) # Use this to append a list of characters from one stack to another.\n",
    "                return \n",
    "            \n",
    "            if openN < n: # While open parenthesis is less than n add an open.\n",
    "                stack.append(\"(\") \n",
    "                backtrack(openN + 1, closedN) # We simply keep track of every open parenthesis we add.\n",
    "                stack.pop() # We have to pop at the end in order to not have a continuously generating combination.\n",
    "            \n",
    "            if closedN < openN: # While open parenthesis is less than n add an open.\n",
    "                stack.append(\")\")\n",
    "                backtrack(openN, closedN + 1)\n",
    "                stack.pop()\n",
    "        \n",
    "        backtrack(0, 0)\n",
    "        return res"
   ]
  },
  {
   "cell_type": "markdown",
   "id": "9ca19407-20f8-4dd3-8a7b-94ab3aad51c9",
   "metadata": {},
   "source": [
    "# Daily Temperatures"
   ]
  },
  {
   "cell_type": "code",
   "execution_count": null,
   "id": "4dcf5b93-c5ac-4f31-ace6-eff2432809b5",
   "metadata": {},
   "outputs": [],
   "source": [
    "class Solution:\n",
    "    def dailyTemperatures(self, temperatures: List[int]) -> List[int]:\n",
    "        # As we progress through the stack take the difference of the index locations to find out how many days it took to get to the next greater temperature day.\n",
    "        res = [0] * len(temperatures) # Making an array the size of the amount of temperatures we have.\n",
    "        stack = [] # pair: [temp, index]\n",
    "\n",
    "        for i, t in enumerate(temperatures): # For index i and t (temp) in our sequence of enumerating temperatures.\n",
    "            while stack and t > stack[-1][0]: # While the stack temperature is greater than the previous remove it from the stack because we need keep iterating to find numbers greater than previous numbers.\n",
    "                stackT, stackInd = stack.pop() # Popping both the stack temp and the index of the stack.\n",
    "                res[stackInd] = (i - stackInd) # The difference between i and the stack temp index.\n",
    "            stack.append([t, i]) # Append the temperature and the index.\n",
    "        return res"
   ]
  },
  {
   "cell_type": "markdown",
   "id": "cf225fa6-74b3-4004-bbed-8845378707a3",
   "metadata": {},
   "source": [
    "# Car Fleet"
   ]
  },
  {
   "cell_type": "code",
   "execution_count": null,
   "id": "9279cc0a-48cc-4b9e-93e5-7df076efa402",
   "metadata": {},
   "outputs": [],
   "source": [
    "class Solution:\n",
    "    def carFleet(self, target: int, position: List[int], speed: List[int]) -> int:\n",
    "        pair = [[p, s] for p, s in zip(position, speed)] # Creates a list of tuples where the data stays together.\n",
    "        \n",
    "        stack = []\n",
    "        # If we have multiple cars on the stack and the car at the top of the stack is less than or equal to the car below that car within the stack, then they will collide and this collision leads to the accumulation of a car fleet.  \n",
    "        for p, s in sorted(pair)[::-1]: # For position and speed tuples in our sorted pairs, iterate in reverse order.\n",
    "            stack.append((target - p) / s)\n",
    "            if len(stack) >= 2 and stack[-1] <= stack[-2]:\n",
    "                stack.pop()\n",
    "        return len(stack)"
   ]
  },
  {
   "cell_type": "markdown",
   "id": "f60b14b8-c306-487b-b89c-6fabccbe821f",
   "metadata": {},
   "source": [
    "# Largest Rectangle in Histogram"
   ]
  },
  {
   "cell_type": "code",
   "execution_count": null,
   "id": "dccb15fb-2741-4f45-b448-495a19ad619d",
   "metadata": {},
   "outputs": [],
   "source": [
    "class Solution:\n",
    "    def largestRectangleArea(self, heights: List[int]) -> int:\n",
    "        maxArea = 0\n",
    "        stack = [] # Pair: (Index, height)\n",
    "\n",
    "        for i, h in enumerate(heights): # iterating through index and height\n",
    "            start = i # start = index = 0\n",
    "            while stack and stack[-1][1] > h: # Stack is empty and if the top values height of the stack is greater then the height we just reached.\n",
    "                index, height = stack.pop() # Check the max rectangle we can create from that height and extend the current height we're at backwards.\n",
    "                maxArea = max(maxArea, height * (i - index)) # Getting max area, comparing previous max area to new one give height * current index - last index popped.\n",
    "                start = index\n",
    "            stack.append((start, h)) # append onto the stack the start index and the height.\n",
    "        \n",
    "        for i, h in stack:\n",
    "            maxArea = max(maxArea, h * (len(heights) - i))\n",
    "        return maxArea"
   ]
  }
 ],
 "metadata": {
  "kernelspec": {
   "display_name": "Python 3 (ipykernel)",
   "language": "python",
   "name": "python3"
  },
  "language_info": {
   "codemirror_mode": {
    "name": "ipython",
    "version": 3
   },
   "file_extension": ".py",
   "mimetype": "text/x-python",
   "name": "python",
   "nbconvert_exporter": "python",
   "pygments_lexer": "ipython3",
   "version": "3.9.12"
  }
 },
 "nbformat": 4,
 "nbformat_minor": 5
}
